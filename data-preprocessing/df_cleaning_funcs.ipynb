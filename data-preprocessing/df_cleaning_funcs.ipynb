{
 "cells": [
  {
   "cell_type": "code",
   "execution_count": 2,
   "id": "79818962-d04f-4094-8bb7-bc4fdc4a1d6e",
   "metadata": {},
   "outputs": [],
   "source": [
    "def dataframe_cleaning(dcc):\n",
    "    import numpy as np\n",
    "    import pandas as pd\n",
    "    dcc.reset_index(drop=True, inplace=True)\n",
    "    drop = dcc['規格'].str.split(\"/\", n = 1, expand = True)[0]\n",
    "    SPEC=drop.str.split(\"(\", n = 1, expand = True)[0]\n",
    "    dcc['SPEC']=SPEC\n",
    "    dcc['SPEC']=dcc['SPEC'].astype('str')\n",
    "    msk=(dcc['SPEC'].str.len()==15)\n",
    "    df=dcc.loc[msk]\n",
    "    df=df.drop(['規格'],axis=1)\n",
    "    SPEC_split=df.SPEC.str.extract(\"([a-zA-Z]+)([0-9]+)\",expand=True)\n",
    "    df['SPEC_L_1']=SPEC_split[0]\n",
    "    df['SPEC_N_1']=SPEC_split[1]\n",
    "    return df"
   ]
  },
  {
   "cell_type": "code",
   "execution_count": null,
   "id": "f99cc7e9-325e-4d22-ba45-4333f4e93f97",
   "metadata": {},
   "outputs": [],
   "source": []
  }
 ],
 "metadata": {
  "kernelspec": {
   "display_name": "Python 3",
   "language": "python",
   "name": "python3"
  },
  "language_info": {
   "codemirror_mode": {
    "name": "ipython",
    "version": 3
   },
   "file_extension": ".py",
   "mimetype": "text/x-python",
   "name": "python",
   "nbconvert_exporter": "python",
   "pygments_lexer": "ipython3",
   "version": "3.8.8"
  }
 },
 "nbformat": 4,
 "nbformat_minor": 5
}
