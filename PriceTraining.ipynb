{
 "cells": [
  {
   "cell_type": "markdown",
   "id": "7700e2dd",
   "metadata": {},
   "source": [
    "# Predict the price of a product from characteristic features"
   ]
  },
  {
   "cell_type": "markdown",
   "id": "29a43170",
   "metadata": {},
   "source": [
    "#### The price prediciton is based on Artifitial Neuron Network (ANN) using TensorFlow"
   ]
  },
  {
   "cell_type": "code",
   "execution_count": 1,
   "id": "68dc6471",
   "metadata": {
    "id": "90c86c2e-aa3b-4550-a821-8d6811dc65ab"
   },
   "outputs": [],
   "source": [
    "import numpy as np\n",
    "import pandas as pd\n",
    "import tensorflow as tf\n",
    "from temp_to_features import*"
   ]
  },
  {
   "cell_type": "markdown",
   "id": "7b0a3dbe",
   "metadata": {
    "id": "_TH_uq3RvDLC"
   },
   "source": [
    "# **Load data**"
   ]
  },
  {
   "cell_type": "code",
   "execution_count": 2,
   "id": "8825d1ca",
   "metadata": {
    "id": "42ab0932-0a6c-4a94-a067-ab3198a958bc"
   },
   "outputs": [],
   "source": [
    "## load data ##\n",
    "df_dir=r'df_clean_raw.pkl'\n",
    "df= pd.read_pickle(df_dir)"
   ]
  },
  {
   "cell_type": "code",
   "execution_count": 3,
   "id": "0331ed63",
   "metadata": {
    "id": "42ab0932-0a6c-4a94-a067-ab3198a958bc"
   },
   "outputs": [],
   "source": [
    "Train_col_list=['order quantity', \n",
    "                'Customer', \n",
    "                'By_way', \n",
    "               'Types',\n",
    "                'SPEC_1st_L1',\n",
    "                'SPEC_1st_L2', \n",
    "                'SPEC_1st_L3',\n",
    "               'SPEC_1st_N',\n",
    "                'SPEC_2nd_L1', \n",
    "               'SPEC_2nd_L2',\n",
    "                'SPEC_2nd_L3',\n",
    "                'Ap_outer_r',\n",
    "                'Ap_L',\n",
    "               'cen_outter_r',\n",
    "                'cen_L',\n",
    "                'cen_material',\n",
    "                'Shell_outer_r', \n",
    "               'shell_L',\n",
    "                'shell_material',\n",
    "                'price per unit']"
   ]
  },
  {
   "cell_type": "markdown",
   "id": "8cc61196",
   "metadata": {
    "id": "dAzmWFCGvYW6"
   },
   "source": [
    "Display Data"
   ]
  },
  {
   "cell_type": "code",
   "execution_count": 4,
   "id": "d34927bc",
   "metadata": {
    "id": "8a2e62e7-58f1-483e-861a-94db4b30f95c"
   },
   "outputs": [
    {
     "data": {
      "text/html": [
       "<div>\n",
       "<style scoped>\n",
       "    .dataframe tbody tr th:only-of-type {\n",
       "        vertical-align: middle;\n",
       "    }\n",
       "\n",
       "    .dataframe tbody tr th {\n",
       "        vertical-align: top;\n",
       "    }\n",
       "\n",
       "    .dataframe thead th {\n",
       "        text-align: right;\n",
       "    }\n",
       "</style>\n",
       "<table border=\"1\" class=\"dataframe\">\n",
       "  <thead>\n",
       "    <tr style=\"text-align: right;\">\n",
       "      <th></th>\n",
       "      <th>order quantity</th>\n",
       "      <th>Customer</th>\n",
       "      <th>By_way</th>\n",
       "      <th>Types</th>\n",
       "      <th>SPEC_1st_L1</th>\n",
       "      <th>SPEC_1st_L2</th>\n",
       "      <th>SPEC_1st_L3</th>\n",
       "      <th>SPEC_1st_N</th>\n",
       "      <th>SPEC_2nd_L1</th>\n",
       "      <th>SPEC_2nd_L2</th>\n",
       "      <th>SPEC_2nd_L3</th>\n",
       "      <th>Ap_outer_r</th>\n",
       "      <th>Ap_L</th>\n",
       "      <th>cen_outter_r</th>\n",
       "      <th>cen_L</th>\n",
       "      <th>cen_material</th>\n",
       "      <th>Shell_outer_r</th>\n",
       "      <th>shell_L</th>\n",
       "      <th>shell_material</th>\n",
       "      <th>price per unit</th>\n",
       "    </tr>\n",
       "  </thead>\n",
       "  <tbody>\n",
       "    <tr>\n",
       "      <th>0</th>\n",
       "      <td>1</td>\n",
       "      <td>新唐</td>\n",
       "      <td>SEMI</td>\n",
       "      <td>國內終端</td>\n",
       "      <td>X</td>\n",
       "      <td>X</td>\n",
       "      <td>S</td>\n",
       "      <td>20</td>\n",
       "      <td>W</td>\n",
       "      <td>M</td>\n",
       "      <td>R</td>\n",
       "      <td>105.0</td>\n",
       "      <td>136.0</td>\n",
       "      <td>29.0</td>\n",
       "      <td>136.0</td>\n",
       "      <td>SUS420</td>\n",
       "      <td>105.0</td>\n",
       "      <td>87.85</td>\n",
       "      <td>SUS304</td>\n",
       "      <td>53000.000</td>\n",
       "    </tr>\n",
       "    <tr>\n",
       "      <th>1</th>\n",
       "      <td>1</td>\n",
       "      <td>UMC 8C</td>\n",
       "      <td>SEMI</td>\n",
       "      <td>國內終端</td>\n",
       "      <td>X</td>\n",
       "      <td>X</td>\n",
       "      <td>S</td>\n",
       "      <td>625</td>\n",
       "      <td>A</td>\n",
       "      <td>M</td>\n",
       "      <td>N</td>\n",
       "      <td>76.2</td>\n",
       "      <td>204.0</td>\n",
       "      <td>44.0</td>\n",
       "      <td>204.0</td>\n",
       "      <td>SUS420</td>\n",
       "      <td>76.2</td>\n",
       "      <td>87.50</td>\n",
       "      <td>AL6061</td>\n",
       "      <td>49500.000</td>\n",
       "    </tr>\n",
       "    <tr>\n",
       "      <th>2</th>\n",
       "      <td>1</td>\n",
       "      <td>UMC 8C</td>\n",
       "      <td>SEMI</td>\n",
       "      <td>國內終端</td>\n",
       "      <td>X</td>\n",
       "      <td>X</td>\n",
       "      <td>S</td>\n",
       "      <td>625</td>\n",
       "      <td>A</td>\n",
       "      <td>M</td>\n",
       "      <td>N</td>\n",
       "      <td>76.2</td>\n",
       "      <td>204.0</td>\n",
       "      <td>44.0</td>\n",
       "      <td>204.0</td>\n",
       "      <td>SUS420</td>\n",
       "      <td>76.2</td>\n",
       "      <td>87.50</td>\n",
       "      <td>AL6061</td>\n",
       "      <td>49500.000</td>\n",
       "    </tr>\n",
       "    <tr>\n",
       "      <th>3</th>\n",
       "      <td>1</td>\n",
       "      <td>AMAT</td>\n",
       "      <td>DISPLAY</td>\n",
       "      <td>國內設備商</td>\n",
       "      <td>X</td>\n",
       "      <td>X</td>\n",
       "      <td>S</td>\n",
       "      <td>30</td>\n",
       "      <td>W</td>\n",
       "      <td>M</td>\n",
       "      <td>R</td>\n",
       "      <td>128.0</td>\n",
       "      <td>180.5</td>\n",
       "      <td>54.9</td>\n",
       "      <td>180.5</td>\n",
       "      <td>SUS420</td>\n",
       "      <td>128.0</td>\n",
       "      <td>121.00</td>\n",
       "      <td>SUS304</td>\n",
       "      <td>59015.000</td>\n",
       "    </tr>\n",
       "    <tr>\n",
       "      <th>4</th>\n",
       "      <td>1</td>\n",
       "      <td>UMC 8C</td>\n",
       "      <td>SEMI</td>\n",
       "      <td>國內終端</td>\n",
       "      <td>X</td>\n",
       "      <td>X</td>\n",
       "      <td>S</td>\n",
       "      <td>625</td>\n",
       "      <td>A</td>\n",
       "      <td>M</td>\n",
       "      <td>N</td>\n",
       "      <td>76.2</td>\n",
       "      <td>204.0</td>\n",
       "      <td>44.0</td>\n",
       "      <td>204.0</td>\n",
       "      <td>SUS420</td>\n",
       "      <td>76.2</td>\n",
       "      <td>87.50</td>\n",
       "      <td>AL6061</td>\n",
       "      <td>49500.000</td>\n",
       "    </tr>\n",
       "    <tr>\n",
       "      <th>...</th>\n",
       "      <td>...</td>\n",
       "      <td>...</td>\n",
       "      <td>...</td>\n",
       "      <td>...</td>\n",
       "      <td>...</td>\n",
       "      <td>...</td>\n",
       "      <td>...</td>\n",
       "      <td>...</td>\n",
       "      <td>...</td>\n",
       "      <td>...</td>\n",
       "      <td>...</td>\n",
       "      <td>...</td>\n",
       "      <td>...</td>\n",
       "      <td>...</td>\n",
       "      <td>...</td>\n",
       "      <td>...</td>\n",
       "      <td>...</td>\n",
       "      <td>...</td>\n",
       "      <td>...</td>\n",
       "      <td>...</td>\n",
       "    </tr>\n",
       "    <tr>\n",
       "      <th>779</th>\n",
       "      <td>1</td>\n",
       "      <td>AMAT</td>\n",
       "      <td>DISPLAY</td>\n",
       "      <td>國內設備商</td>\n",
       "      <td>A</td>\n",
       "      <td>X</td>\n",
       "      <td>S</td>\n",
       "      <td>40</td>\n",
       "      <td>C</td>\n",
       "      <td>N</td>\n",
       "      <td>R</td>\n",
       "      <td>170.0</td>\n",
       "      <td>241.0</td>\n",
       "      <td>70.0</td>\n",
       "      <td>241.0</td>\n",
       "      <td>SUS420</td>\n",
       "      <td>170.0</td>\n",
       "      <td>127.00</td>\n",
       "      <td>SUS304</td>\n",
       "      <td>80870.200</td>\n",
       "    </tr>\n",
       "    <tr>\n",
       "      <th>780</th>\n",
       "      <td>1</td>\n",
       "      <td>AMAT</td>\n",
       "      <td>DISPLAY</td>\n",
       "      <td>國內設備商</td>\n",
       "      <td>A</td>\n",
       "      <td>X</td>\n",
       "      <td>S</td>\n",
       "      <td>40</td>\n",
       "      <td>C</td>\n",
       "      <td>N</td>\n",
       "      <td>R</td>\n",
       "      <td>170.0</td>\n",
       "      <td>241.0</td>\n",
       "      <td>70.0</td>\n",
       "      <td>241.0</td>\n",
       "      <td>SUS420</td>\n",
       "      <td>170.0</td>\n",
       "      <td>127.00</td>\n",
       "      <td>SUS304</td>\n",
       "      <td>81705.615</td>\n",
       "    </tr>\n",
       "    <tr>\n",
       "      <th>781</th>\n",
       "      <td>1</td>\n",
       "      <td>AMAT</td>\n",
       "      <td>DISPLAY</td>\n",
       "      <td>國內設備商</td>\n",
       "      <td>A</td>\n",
       "      <td>X</td>\n",
       "      <td>S</td>\n",
       "      <td>40</td>\n",
       "      <td>C</td>\n",
       "      <td>N</td>\n",
       "      <td>R</td>\n",
       "      <td>170.0</td>\n",
       "      <td>241.0</td>\n",
       "      <td>70.0</td>\n",
       "      <td>241.0</td>\n",
       "      <td>SUS420</td>\n",
       "      <td>170.0</td>\n",
       "      <td>127.00</td>\n",
       "      <td>SUS304</td>\n",
       "      <td>80754.150</td>\n",
       "    </tr>\n",
       "    <tr>\n",
       "      <th>782</th>\n",
       "      <td>1</td>\n",
       "      <td>AMAT</td>\n",
       "      <td>DISPLAY</td>\n",
       "      <td>國內設備商</td>\n",
       "      <td>A</td>\n",
       "      <td>X</td>\n",
       "      <td>S</td>\n",
       "      <td>40</td>\n",
       "      <td>C</td>\n",
       "      <td>N</td>\n",
       "      <td>R</td>\n",
       "      <td>170.0</td>\n",
       "      <td>241.0</td>\n",
       "      <td>70.0</td>\n",
       "      <td>241.0</td>\n",
       "      <td>SUS420</td>\n",
       "      <td>170.0</td>\n",
       "      <td>127.00</td>\n",
       "      <td>SUS304</td>\n",
       "      <td>80754.150</td>\n",
       "    </tr>\n",
       "    <tr>\n",
       "      <th>783</th>\n",
       "      <td>1</td>\n",
       "      <td>AA</td>\n",
       "      <td>DISPLAY</td>\n",
       "      <td>國內設備商</td>\n",
       "      <td>A</td>\n",
       "      <td>X</td>\n",
       "      <td>S</td>\n",
       "      <td>40</td>\n",
       "      <td>C</td>\n",
       "      <td>N</td>\n",
       "      <td>R</td>\n",
       "      <td>170.0</td>\n",
       "      <td>241.0</td>\n",
       "      <td>70.0</td>\n",
       "      <td>241.0</td>\n",
       "      <td>SUS420</td>\n",
       "      <td>170.0</td>\n",
       "      <td>127.00</td>\n",
       "      <td>SUS304</td>\n",
       "      <td>80754.150</td>\n",
       "    </tr>\n",
       "  </tbody>\n",
       "</table>\n",
       "<p>744 rows × 20 columns</p>\n",
       "</div>"
      ],
      "text/plain": [
       "     order quantity Customer   By_way  Types SPEC_1st_L1 SPEC_1st_L2  \\\n",
       "0                 1       新唐     SEMI   國內終端           X           X   \n",
       "1                 1   UMC 8C     SEMI   國內終端           X           X   \n",
       "2                 1   UMC 8C     SEMI   國內終端           X           X   \n",
       "3                 1     AMAT  DISPLAY  國內設備商           X           X   \n",
       "4                 1   UMC 8C     SEMI   國內終端           X           X   \n",
       "..              ...      ...      ...    ...         ...         ...   \n",
       "779               1     AMAT  DISPLAY  國內設備商           A           X   \n",
       "780               1     AMAT  DISPLAY  國內設備商           A           X   \n",
       "781               1     AMAT  DISPLAY  國內設備商           A           X   \n",
       "782               1     AMAT  DISPLAY  國內設備商           A           X   \n",
       "783               1       AA  DISPLAY  國內設備商           A           X   \n",
       "\n",
       "    SPEC_1st_L3  SPEC_1st_N SPEC_2nd_L1 SPEC_2nd_L2 SPEC_2nd_L3  Ap_outer_r  \\\n",
       "0             S          20           W           M           R       105.0   \n",
       "1             S         625           A           M           N        76.2   \n",
       "2             S         625           A           M           N        76.2   \n",
       "3             S          30           W           M           R       128.0   \n",
       "4             S         625           A           M           N        76.2   \n",
       "..          ...         ...         ...         ...         ...         ...   \n",
       "779           S          40           C           N           R       170.0   \n",
       "780           S          40           C           N           R       170.0   \n",
       "781           S          40           C           N           R       170.0   \n",
       "782           S          40           C           N           R       170.0   \n",
       "783           S          40           C           N           R       170.0   \n",
       "\n",
       "      Ap_L  cen_outter_r  cen_L cen_material  Shell_outer_r  shell_L  \\\n",
       "0    136.0          29.0  136.0       SUS420          105.0    87.85   \n",
       "1    204.0          44.0  204.0       SUS420           76.2    87.50   \n",
       "2    204.0          44.0  204.0       SUS420           76.2    87.50   \n",
       "3    180.5          54.9  180.5       SUS420          128.0   121.00   \n",
       "4    204.0          44.0  204.0       SUS420           76.2    87.50   \n",
       "..     ...           ...    ...          ...            ...      ...   \n",
       "779  241.0          70.0  241.0       SUS420          170.0   127.00   \n",
       "780  241.0          70.0  241.0       SUS420          170.0   127.00   \n",
       "781  241.0          70.0  241.0       SUS420          170.0   127.00   \n",
       "782  241.0          70.0  241.0       SUS420          170.0   127.00   \n",
       "783  241.0          70.0  241.0       SUS420          170.0   127.00   \n",
       "\n",
       "    shell_material  price per unit  \n",
       "0           SUS304       53000.000  \n",
       "1           AL6061       49500.000  \n",
       "2           AL6061       49500.000  \n",
       "3           SUS304       59015.000  \n",
       "4           AL6061       49500.000  \n",
       "..             ...             ...  \n",
       "779         SUS304       80870.200  \n",
       "780         SUS304       81705.615  \n",
       "781         SUS304       80754.150  \n",
       "782         SUS304       80754.150  \n",
       "783         SUS304       80754.150  \n",
       "\n",
       "[744 rows x 20 columns]"
      ]
     },
     "execution_count": 4,
     "metadata": {},
     "output_type": "execute_result"
    }
   ],
   "source": [
    "## show load data\n",
    "pd.set_option('display.max_columns', None)\n",
    "df.reset_index(inplace=True,drop=True)\n",
    "df=df[Train_col_list]\n",
    "q=df['price per unit'].quantile(0.95)\n",
    "df=df[df['price per unit']<q]\n",
    "df.to_pickle('df_templet.pkl')\n",
    "df"
   ]
  },
  {
   "cell_type": "markdown",
   "id": "b70e077a",
   "metadata": {
    "id": "7x_uS5N9vdaH"
   },
   "source": [
    "Split Data into Numerical and Categorical Data"
   ]
  },
  {
   "cell_type": "code",
   "execution_count": 5,
   "id": "6fb6ad2d",
   "metadata": {
    "id": "51085d79-bf02-400f-9e40-260510b99a37"
   },
   "outputs": [
    {
     "name": "stderr",
     "output_type": "stream",
     "text": [
      "C:\\Users\\James\\.conda\\envs\\data\\lib\\site-packages\\pandas\\core\\frame.py:5176: SettingWithCopyWarning: \n",
      "A value is trying to be set on a copy of a slice from a DataFrame\n",
      "\n",
      "See the caveats in the documentation: https://pandas.pydata.org/pandas-docs/stable/user_guide/indexing.html#returning-a-view-versus-a-copy\n",
      "  return super().fillna(\n"
     ]
    }
   ],
   "source": [
    "data,num,cat,dum=feature_col_clean_split(df)"
   ]
  },
  {
   "cell_type": "code",
   "execution_count": 6,
   "id": "8726f66e",
   "metadata": {
    "id": "51085d79-bf02-400f-9e40-260510b99a37"
   },
   "outputs": [
    {
     "data": {
      "text/plain": [
       "Index(['Customer_AMAT', 'Customer_AUOL6A', 'Customer_AUOL7A',\n",
       "       'Customer_AUOL8A', 'Customer_D&E', 'Customer_HONJI', 'Customer_INX-8',\n",
       "       'Customer_INX-T1', 'Customer_KJLC', 'Customer_PTW',\n",
       "       ...\n",
       "       'SPEC_2nd_L1_C', 'SPEC_2nd_L1_W', 'SPEC_2nd_L2_M', 'SPEC_2nd_L2_N',\n",
       "       'SPEC_2nd_L3_H', 'SPEC_2nd_L3_N', 'SPEC_2nd_L3_R', 'SPEC_2nd_L3_U',\n",
       "       'SPEC_2nd_L3_X', 'SPEC_2nd_L3_Z'],\n",
       "      dtype='object', length=108)"
      ]
     },
     "execution_count": 6,
     "metadata": {},
     "output_type": "execute_result"
    }
   ],
   "source": [
    "dum.columns"
   ]
  },
  {
   "cell_type": "markdown",
   "id": "acb57e0a",
   "metadata": {
    "id": "V9yGXZdu78sw"
   },
   "source": [
    "# Set X and y"
   ]
  },
  {
   "cell_type": "code",
   "execution_count": 7,
   "id": "6c609cd2",
   "metadata": {
    "id": "BaqicV8nwBC0"
   },
   "outputs": [],
   "source": [
    "y=data['price per unit'].values\n",
    "X=data.drop(['price per unit'],axis=1).values"
   ]
  },
  {
   "cell_type": "markdown",
   "id": "632e9a20",
   "metadata": {
    "id": "2bHUAM2Ov5xA"
   },
   "source": [
    "# Train Test splitting "
   ]
  },
  {
   "cell_type": "code",
   "execution_count": 8,
   "id": "77bccefe",
   "metadata": {
    "id": "a17e4f0f-70e4-4827-bb12-f578eed37e87"
   },
   "outputs": [
    {
     "name": "stdout",
     "output_type": "stream",
     "text": [
      "476 train dataset\n",
      "119 validation dataset\n",
      "149 test dataset\n"
     ]
    }
   ],
   "source": [
    "from sklearn.model_selection import train_test_split\n",
    "x0_train, X_test, y0_train, y_test = train_test_split(X, y, test_size=0.2)\n",
    "X_train, X_val, y_train, y_val= train_test_split(x0_train, y0_train, test_size=0.2)\n",
    "print(len(X_train), 'train dataset')\n",
    "print(len(X_val), 'validation dataset')\n",
    "print(len(X_test), 'test dataset')"
   ]
  },
  {
   "cell_type": "code",
   "execution_count": 9,
   "id": "976b76b8",
   "metadata": {
    "id": "022eb825-b998-4941-b5d1-e7adfbe20c93"
   },
   "outputs": [
    {
     "data": {
      "text/plain": [
       "['x_scaler.pkl']"
      ]
     },
     "execution_count": 9,
     "metadata": {},
     "output_type": "execute_result"
    }
   ],
   "source": [
    "from sklearn.preprocessing import MinMaxScaler\n",
    "scaler=MinMaxScaler()\n",
    "X_train=scaler.fit_transform(X_train)\n",
    "X_val=scaler.fit_transform(X_val)\n",
    "X_test=scaler.transform(X_test)\n",
    "\n",
    "## Save Scaler\n",
    "import joblib\n",
    "joblib.dump(scaler,'x_scaler.pkl')"
   ]
  },
  {
   "cell_type": "code",
   "execution_count": 10,
   "id": "61736d0e",
   "metadata": {
    "id": "2e0c0c1b-6700-4939-af36-e282d48a9ba2"
   },
   "outputs": [],
   "source": [
    "from tensorflow.keras.models import Sequential\n",
    "from tensorflow.keras.layers import Dense"
   ]
  },
  {
   "cell_type": "code",
   "execution_count": 11,
   "id": "b2c48c1d",
   "metadata": {
    "id": "dec18bda-7c65-4fc9-b1d7-fc2bb6877db2"
   },
   "outputs": [
    {
     "data": {
      "text/plain": [
       "(476, 116)"
      ]
     },
     "execution_count": 11,
     "metadata": {},
     "output_type": "execute_result"
    }
   ],
   "source": [
    "X_train.shape"
   ]
  },
  {
   "cell_type": "code",
   "execution_count": 12,
   "id": "9f9c5536",
   "metadata": {
    "id": "737cff51-3c26-4a78-8a11-77a2ffee0acf"
   },
   "outputs": [],
   "source": [
    "from tensorflow.keras.layers import Dropout\n",
    "from tensorflow.keras.callbacks import EarlyStopping\n",
    "\n",
    "\n",
    "model=Sequential()\n",
    "\n",
    "model.add(Dense(X_train.shape[1],activation='relu'))\n",
    "model.add(Dense(254,activation='relu'))\n",
    "model.add(Dense(254,activation='relu'))\n",
    "model.add(Dense(508,activation='relu'))\n",
    "model.add(Dense(508,activation='relu'))\n",
    "model.add(Dense(508,activation='relu'))\n",
    "model.add(Dense(1016,activation='relu'))\n",
    "model.add(Dense(1016,activation='relu'))\n",
    "model.add(Dense(1016,activation='relu'))\n",
    "model.add(Dense(1016,activation='relu'))\n",
    "model.add(Dense(1016,activation='relu'))\n",
    "model.add(Dense(1016,activation='relu'))\n",
    "model.add(Dropout(0.5))\n",
    "model.add(Dense(508,activation='relu'))\n",
    "model.add(Dense(508,activation='relu'))\n",
    "model.add(Dense(508,activation='relu'))\n",
    "model.add(Dropout(0.5))\n",
    "model.add(Dense(254,activation='relu'))\n",
    "model.add(Dense(254,activation='relu'))\n",
    "model.add(Dropout(0.5))\n",
    "model.add(Dense(X_train.shape[1],activation='relu'))\n",
    "\n",
    "model.add((Dense(1)))\n",
    "model.compile(optimizer='adam',loss='mse')"
   ]
  },
  {
   "cell_type": "code",
   "execution_count": 13,
   "id": "9bd798fa",
   "metadata": {
    "id": "a815f185-4fe4-41d1-8449-e0df3b5d3bc6"
   },
   "outputs": [
    {
     "name": "stdout",
     "output_type": "stream",
     "text": [
      "Epoch 00223: early stopping\n"
     ]
    },
    {
     "data": {
      "text/plain": [
       "<tensorflow.python.keras.callbacks.History at 0x1ea14509a90>"
      ]
     },
     "execution_count": 13,
     "metadata": {},
     "output_type": "execute_result"
    }
   ],
   "source": [
    "early_stop=EarlyStopping(monitor='val_loss',mode='min',verbose=1,patience=100)\n",
    "model.fit(x=X_train,y=y_train,\n",
    "          validation_data=(X_val,y_val),\n",
    "          batch_size=512,\n",
    "          epochs=2000,\n",
    "          verbose=0,\n",
    "          callbacks=[early_stop]\n",
    "          )\n"
   ]
  },
  {
   "cell_type": "code",
   "execution_count": 14,
   "id": "bde708d4",
   "metadata": {
    "id": "6c3fc5d8-2531-4771-b0d0-ee7ff9b6295d"
   },
   "outputs": [],
   "source": [
    "losses=pd.DataFrame(model.history.history)"
   ]
  },
  {
   "cell_type": "code",
   "execution_count": 15,
   "id": "c35bad9e",
   "metadata": {
    "id": "ce22234a-0495-46f8-a1db-51ada16fd9cd"
   },
   "outputs": [
    {
     "data": {
      "text/plain": [
       "<AxesSubplot:>"
      ]
     },
     "execution_count": 15,
     "metadata": {},
     "output_type": "execute_result"
    },
    {
     "data": {
      "text/plain": [
       "<Figure size 864x432 with 0 Axes>"
      ]
     },
     "metadata": {},
     "output_type": "display_data"
    },
    {
     "data": {
      "image/png": "[encoded data removed]",
      "text/plain": [
       "<Figure size 432x288 with 1 Axes>"
      ]
     },
     "metadata": {
      "needs_background": "light"
     },
     "output_type": "display_data"
    }
   ],
   "source": [
    "import matplotlib.pyplot as plt\n",
    "plt.figure(figsize=(12,6))\n",
    "losses.plot()"
   ]
  },
  {
   "cell_type": "code",
   "execution_count": 16,
   "id": "e3ece639",
   "metadata": {
    "id": "ce22234a-0495-46f8-a1db-51ada16fd9cd"
   },
   "outputs": [
    {
     "name": "stdout",
     "output_type": "stream",
     "text": [
      "Model: \"sequential\"\n",
      "_________________________________________________________________\n",
      "Layer (type)                 Output Shape              Param #   \n",
      "=================================================================\n",
      "dense (Dense)                (None, 116)               13572     \n",
      "_________________________________________________________________\n",
      "dense_1 (Dense)              (None, 254)               29718     \n",
      "_________________________________________________________________\n",
      "dense_2 (Dense)              (None, 254)               64770     \n",
      "_________________________________________________________________\n",
      "dense_3 (Dense)              (None, 508)               129540    \n",
      "_________________________________________________________________\n",
      "dense_4 (Dense)              (None, 508)               258572    \n",
      "_________________________________________________________________\n",
      "dense_5 (Dense)              (None, 508)               258572    \n",
      "_________________________________________________________________\n",
      "dense_6 (Dense)              (None, 1016)              517144    \n",
      "_________________________________________________________________\n",
      "dense_7 (Dense)              (None, 1016)              1033272   \n",
      "_________________________________________________________________\n",
      "dense_8 (Dense)              (None, 1016)              1033272   \n",
      "_________________________________________________________________\n",
      "dense_9 (Dense)              (None, 1016)              1033272   \n",
      "_________________________________________________________________\n",
      "dense_10 (Dense)             (None, 1016)              1033272   \n",
      "_________________________________________________________________\n",
      "dense_11 (Dense)             (None, 1016)              1033272   \n",
      "_________________________________________________________________\n",
      "dropout (Dropout)            (None, 1016)              0         \n",
      "_________________________________________________________________\n",
      "dense_12 (Dense)             (None, 508)               516636    \n",
      "_________________________________________________________________\n",
      "dense_13 (Dense)             (None, 508)               258572    \n",
      "_________________________________________________________________\n",
      "dense_14 (Dense)             (None, 508)               258572    \n",
      "_________________________________________________________________\n",
      "dropout_1 (Dropout)          (None, 508)               0         \n",
      "_________________________________________________________________\n",
      "dense_15 (Dense)             (None, 254)               129286    \n",
      "_________________________________________________________________\n",
      "dense_16 (Dense)             (None, 254)               64770     \n",
      "_________________________________________________________________\n",
      "dropout_2 (Dropout)          (None, 254)               0         \n",
      "_________________________________________________________________\n",
      "dense_17 (Dense)             (None, 116)               29580     \n",
      "_________________________________________________________________\n",
      "dense_18 (Dense)             (None, 1)                 117       \n",
      "=================================================================\n",
      "Total params: 7,695,781\n",
      "Trainable params: 7,695,781\n",
      "Non-trainable params: 0\n",
      "_________________________________________________________________\n"
     ]
    }
   ],
   "source": [
    "model.summary()"
   ]
  },
  {
   "cell_type": "code",
   "execution_count": 17,
   "id": "67c9d040",
   "metadata": {
    "id": "468a5084-7bf8-45ab-a490-0080486874bf"
   },
   "outputs": [],
   "source": [
    "from sklearn.metrics import mean_squared_error,mean_absolute_error,explained_variance_score"
   ]
  },
  {
   "cell_type": "code",
   "execution_count": 18,
   "id": "9bbe8068",
   "metadata": {
    "id": "1dece30e-5aee-4606-9945-6a9ccf418dc0"
   },
   "outputs": [],
   "source": [
    "predictions=model.predict(X_test)"
   ]
  },
  {
   "cell_type": "code",
   "execution_count": 19,
   "id": "aae01962",
   "metadata": {
    "id": "ef53228e-8a52-4788-95b1-5b166722a887"
   },
   "outputs": [
    {
     "data": {
      "text/plain": [
       "9205.50413736883"
      ]
     },
     "execution_count": 19,
     "metadata": {},
     "output_type": "execute_result"
    }
   ],
   "source": [
    "np.sqrt(mean_squared_error(y_test,predictions))"
   ]
  },
  {
   "cell_type": "code",
   "execution_count": 20,
   "id": "5926188a",
   "metadata": {
    "id": "95573575-2ee7-4e7b-a0b4-91e912bea08b"
   },
   "outputs": [
    {
     "data": {
      "text/plain": [
       "5641.619310371225"
      ]
     },
     "execution_count": 20,
     "metadata": {},
     "output_type": "execute_result"
    }
   ],
   "source": [
    "mean_absolute_error(y_test,predictions)"
   ]
  },
  {
   "cell_type": "code",
   "execution_count": 21,
   "id": "c0d618df",
   "metadata": {
    "id": "d4aef975-4bb1-4971-8444-b506bd13763c"
   },
   "outputs": [
    {
     "data": {
      "text/plain": [
       "count      744.000000\n",
       "mean     30935.522560\n",
       "std      22914.438357\n",
       "min        680.960000\n",
       "25%      10131.544125\n",
       "50%      25210.125000\n",
       "75%      49000.000000\n",
       "max      92792.250000\n",
       "Name: price per unit, dtype: float64"
      ]
     },
     "execution_count": 21,
     "metadata": {},
     "output_type": "execute_result"
    }
   ],
   "source": [
    "df['price per unit'].describe()"
   ]
  },
  {
   "cell_type": "code",
   "execution_count": 22,
   "id": "10e465d6",
   "metadata": {
    "id": "eee72514-1659-4b31-8c23-aca842843445"
   },
   "outputs": [
    {
     "data": {
      "text/plain": [
       "0.8366093638334587"
      ]
     },
     "execution_count": 22,
     "metadata": {},
     "output_type": "execute_result"
    }
   ],
   "source": [
    "explained_variance_score(y_test,predictions)"
   ]
  },
  {
   "cell_type": "code",
   "execution_count": 23,
   "id": "7aae6a3d",
   "metadata": {
    "id": "9bcc2da5-2ad0-4ee8-bc93-9af1982c0599",
    "scrolled": true
   },
   "outputs": [
    {
     "data": {
      "image/png": "[encoded data removed]",
      "text/plain": [
       "<Figure size 864x432 with 1 Axes>"
      ]
     },
     "metadata": {
      "needs_background": "light"
     },
     "output_type": "display_data"
    }
   ],
   "source": [
    "plt.figure(figsize=(12,6))\n",
    "plt.scatter(y_test,predictions)\n",
    "plt.plot(y_test,y_test,'r')\n",
    "plt.xlabel('Real value')\n",
    "plt.ylabel('Predictions')\n",
    "plt.show()"
   ]
  },
  {
   "cell_type": "code",
   "execution_count": 24,
   "id": "a9c5c629",
   "metadata": {
    "id": "d44e665e-0a52-4f4c-a534-a4c47c6f740f"
   },
   "outputs": [],
   "source": [
    "import numpy as np\n",
    "i=np.random.randint(len(df), size=1)\n",
    "single_feedthrough=data.drop('price per unit',axis=1).iloc[i]"
   ]
  },
  {
   "cell_type": "code",
   "execution_count": 25,
   "id": "6a86387f",
   "metadata": {
    "id": "0887a2b0-2fa1-45bf-9d0f-de6e3a85217e"
   },
   "outputs": [],
   "source": [
    "single_feedthrough=scaler.transform(single_feedthrough.values.reshape(-1,X_train.shape[1]))"
   ]
  },
  {
   "cell_type": "code",
   "execution_count": 26,
   "id": "33492407",
   "metadata": {
    "id": "de1bd4cd-ec4f-4db4-a489-7e260b1b54b3"
   },
   "outputs": [
    {
     "data": {
      "text/plain": [
       "array([[25861.746]], dtype=float32)"
      ]
     },
     "execution_count": 26,
     "metadata": {},
     "output_type": "execute_result"
    }
   ],
   "source": [
    "model.predict(single_feedthrough)"
   ]
  },
  {
   "cell_type": "code",
   "execution_count": 27,
   "id": "82fece47",
   "metadata": {
    "id": "d602250a-e1b9-4117-aadd-83012139211e"
   },
   "outputs": [
    {
     "data": {
      "text/plain": [
       "176    32000.0\n",
       "Name: price per unit, dtype: float64"
      ]
     },
     "execution_count": 27,
     "metadata": {},
     "output_type": "execute_result"
    }
   ],
   "source": [
    "df['price per unit'].iloc[i]"
   ]
  },
  {
   "cell_type": "code",
   "execution_count": 28,
   "id": "5c46b4e6",
   "metadata": {
    "id": "3bc1fb2d-b934-4f81-98a3-c143236cbd65"
   },
   "outputs": [
    {
     "data": {
      "text/plain": [
       "(149,)"
      ]
     },
     "execution_count": 28,
     "metadata": {},
     "output_type": "execute_result"
    }
   ],
   "source": [
    "y_test.shape"
   ]
  },
  {
   "cell_type": "code",
   "execution_count": 29,
   "id": "1fd20e7d",
   "metadata": {
    "id": "71b6146e-556d-4a55-b8c8-c7445cc915a6"
   },
   "outputs": [],
   "source": [
    "errors = y_test.reshape(y_test.shape[0], 1) - predictions"
   ]
  },
  {
   "cell_type": "code",
   "execution_count": 30,
   "id": "88455b66",
   "metadata": {
    "id": "a9cb6026-421c-4568-ace5-09af03a861ca"
   },
   "outputs": [
    {
     "name": "stderr",
     "output_type": "stream",
     "text": [
      "C:\\Users\\James\\.conda\\envs\\data\\lib\\site-packages\\seaborn\\distributions.py:2619: FutureWarning: `distplot` is a deprecated function and will be removed in a future version. Please adapt your code to use either `displot` (a figure-level function with similar flexibility) or `histplot` (an axes-level function for histograms).\n",
      "  warnings.warn(msg, FutureWarning)\n"
     ]
    },
    {
     "data": {
      "image/png": "[encoded data removed]",
      "text/plain": [
       "<Figure size 864x432 with 1 Axes>"
      ]
     },
     "metadata": {
      "needs_background": "light"
     },
     "output_type": "display_data"
    }
   ],
   "source": [
    "import seaborn as sns\n",
    "plt.figure(figsize=(12,6))\n",
    "sns.distplot(errors)\n",
    "plt.xlabel('Errors')\n",
    "plt.show()"
   ]
  },
  {
   "cell_type": "code",
   "execution_count": 31,
   "id": "39e6266b",
   "metadata": {
    "id": "75c68f7c-c486-4da3-b5bc-dc86da17bd30"
   },
   "outputs": [],
   "source": [
    "#model.save('model_noW_82.h5')"
   ]
  }
 ],
 "metadata": {
  "accelerator": "TPU",
  "colab": {
   "collapsed_sections": [],
   "name": "Feedthrough_TF_NumCat.ipynb",
   "private_outputs": true,
   "provenance": []
  },
  "interpreter": {
   "hash": "cfd2ab2f80aab979e76082ccee9608e3dd61a53aee0740d92182b929b1f2de9f"
  },
  "kernelspec": {
   "display_name": "Python 3 (ipykernel)",
   "language": "python",
   "name": "python3"
  },
  "language_info": {
   "codemirror_mode": {
    "name": "ipython",
    "version": 3
   },
   "file_extension": ".py",
   "mimetype": "text/x-python",
   "name": "python",
   "nbconvert_exporter": "python",
   "pygments_lexer": "ipython3",
   "version": "3.8.12"
  }
 },
 "nbformat": 4,
 "nbformat_minor": 5
}
