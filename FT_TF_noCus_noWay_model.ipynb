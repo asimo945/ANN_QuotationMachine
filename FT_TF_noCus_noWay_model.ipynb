{
 "cells": [
  {
   "cell_type": "code",
   "execution_count": 1,
   "id": "815aa4f6-370f-4378-8144-91a37c1048fd",
   "metadata": {
    "id": "90c86c2e-aa3b-4550-a821-8d6811dc65ab"
   },
   "outputs": [],
   "source": [
    "import numpy as np\n",
    "import pandas as pd\n",
    "import tensorflow as tf"
   ]
  },
  {
   "cell_type": "markdown",
   "id": "01c31e77-7726-4754-907f-8003c7b402ba",
   "metadata": {
    "id": "_TH_uq3RvDLC"
   },
   "source": [
    "# **Load data**"
   ]
  },
  {
   "cell_type": "code",
   "execution_count": 2,
   "id": "2a7330ad-a841-42dd-a7bc-00636ab9f449",
   "metadata": {
    "id": "42ab0932-0a6c-4a94-a067-ab3198a958bc"
   },
   "outputs": [],
   "source": [
    "## load data ##\n",
    "df_dir=r'df_clean_raw.pkl'\n",
    "df= pd.read_pickle(df_dir)"
   ]
  },
  {
   "cell_type": "code",
   "execution_count": 3,
   "id": "f9cd2fea-6a84-45b9-b633-fb3b94c8cf35",
   "metadata": {
    "id": "42ab0932-0a6c-4a94-a067-ab3198a958bc"
   },
   "outputs": [],
   "source": [
    "Train_col_list=['order quantity',  \n",
    "               'Types',\n",
    "                'SPEC_1st_L1',\n",
    "                'SPEC_1st_L2', \n",
    "                'SPEC_1st_L3',\n",
    "               'SPEC_1st_N',\n",
    "                'SPEC_2nd_L1', \n",
    "               'SPEC_2nd_L2',\n",
    "                'SPEC_2nd_L3',\n",
    "                'Ap_outer_r',\n",
    "                'Ap_L',\n",
    "               'cen_outter_r',\n",
    "                'cen_L',\n",
    "                'cen_material',\n",
    "                'Shell_outer_r', \n",
    "               'shell_L',\n",
    "                'shell_material',\n",
    "                'price per unit']"
   ]
  },
  {
   "cell_type": "markdown",
   "id": "dAzmWFCGvYW6",
   "metadata": {
    "id": "dAzmWFCGvYW6"
   },
   "source": [
    "Display Data"
   ]
  },
  {
   "cell_type": "code",
   "execution_count": 4,
   "id": "8a2e62e7-58f1-483e-861a-94db4b30f95c",
   "metadata": {
    "id": "8a2e62e7-58f1-483e-861a-94db4b30f95c"
   },
   "outputs": [
    {
     "data": {
      "text/html": [
       "<div>\n",
       "<style scoped>\n",
       "    .dataframe tbody tr th:only-of-type {\n",
       "        vertical-align: middle;\n",
       "    }\n",
       "\n",
       "    .dataframe tbody tr th {\n",
       "        vertical-align: top;\n",
       "    }\n",
       "\n",
       "    .dataframe thead th {\n",
       "        text-align: right;\n",
       "    }\n",
       "</style>\n",
       "<table border=\"1\" class=\"dataframe\">\n",
       "  <thead>\n",
       "    <tr style=\"text-align: right;\">\n",
       "      <th></th>\n",
       "      <th>order quantity</th>\n",
       "      <th>Types</th>\n",
       "      <th>SPEC_1st_L1</th>\n",
       "      <th>SPEC_1st_L2</th>\n",
       "      <th>SPEC_1st_L3</th>\n",
       "      <th>SPEC_1st_N</th>\n",
       "      <th>SPEC_2nd_L1</th>\n",
       "      <th>SPEC_2nd_L2</th>\n",
       "      <th>SPEC_2nd_L3</th>\n",
       "      <th>Ap_outer_r</th>\n",
       "      <th>Ap_L</th>\n",
       "      <th>cen_outter_r</th>\n",
       "      <th>cen_L</th>\n",
       "      <th>cen_material</th>\n",
       "      <th>Shell_outer_r</th>\n",
       "      <th>shell_L</th>\n",
       "      <th>shell_material</th>\n",
       "      <th>price per unit</th>\n",
       "    </tr>\n",
       "  </thead>\n",
       "  <tbody>\n",
       "    <tr>\n",
       "      <th>0</th>\n",
       "      <td>1</td>\n",
       "      <td>國內終端</td>\n",
       "      <td>X</td>\n",
       "      <td>X</td>\n",
       "      <td>S</td>\n",
       "      <td>20</td>\n",
       "      <td>W</td>\n",
       "      <td>M</td>\n",
       "      <td>R</td>\n",
       "      <td>105.0</td>\n",
       "      <td>136.0</td>\n",
       "      <td>29.0</td>\n",
       "      <td>136.0</td>\n",
       "      <td>SUS420</td>\n",
       "      <td>105.0</td>\n",
       "      <td>87.85</td>\n",
       "      <td>SUS304</td>\n",
       "      <td>53000.000</td>\n",
       "    </tr>\n",
       "    <tr>\n",
       "      <th>1</th>\n",
       "      <td>1</td>\n",
       "      <td>國內終端</td>\n",
       "      <td>X</td>\n",
       "      <td>X</td>\n",
       "      <td>S</td>\n",
       "      <td>625</td>\n",
       "      <td>A</td>\n",
       "      <td>M</td>\n",
       "      <td>N</td>\n",
       "      <td>76.2</td>\n",
       "      <td>204.0</td>\n",
       "      <td>44.0</td>\n",
       "      <td>204.0</td>\n",
       "      <td>SUS420</td>\n",
       "      <td>76.2</td>\n",
       "      <td>87.50</td>\n",
       "      <td>AL6061</td>\n",
       "      <td>49500.000</td>\n",
       "    </tr>\n",
       "    <tr>\n",
       "      <th>2</th>\n",
       "      <td>1</td>\n",
       "      <td>國內終端</td>\n",
       "      <td>X</td>\n",
       "      <td>X</td>\n",
       "      <td>S</td>\n",
       "      <td>625</td>\n",
       "      <td>A</td>\n",
       "      <td>M</td>\n",
       "      <td>N</td>\n",
       "      <td>76.2</td>\n",
       "      <td>204.0</td>\n",
       "      <td>44.0</td>\n",
       "      <td>204.0</td>\n",
       "      <td>SUS420</td>\n",
       "      <td>76.2</td>\n",
       "      <td>87.50</td>\n",
       "      <td>AL6061</td>\n",
       "      <td>49500.000</td>\n",
       "    </tr>\n",
       "    <tr>\n",
       "      <th>3</th>\n",
       "      <td>1</td>\n",
       "      <td>國內設備商</td>\n",
       "      <td>X</td>\n",
       "      <td>X</td>\n",
       "      <td>S</td>\n",
       "      <td>30</td>\n",
       "      <td>W</td>\n",
       "      <td>M</td>\n",
       "      <td>R</td>\n",
       "      <td>128.0</td>\n",
       "      <td>180.5</td>\n",
       "      <td>54.9</td>\n",
       "      <td>180.5</td>\n",
       "      <td>SUS420</td>\n",
       "      <td>128.0</td>\n",
       "      <td>121.00</td>\n",
       "      <td>SUS304</td>\n",
       "      <td>59015.000</td>\n",
       "    </tr>\n",
       "    <tr>\n",
       "      <th>4</th>\n",
       "      <td>1</td>\n",
       "      <td>國內終端</td>\n",
       "      <td>X</td>\n",
       "      <td>X</td>\n",
       "      <td>S</td>\n",
       "      <td>625</td>\n",
       "      <td>A</td>\n",
       "      <td>M</td>\n",
       "      <td>N</td>\n",
       "      <td>76.2</td>\n",
       "      <td>204.0</td>\n",
       "      <td>44.0</td>\n",
       "      <td>204.0</td>\n",
       "      <td>SUS420</td>\n",
       "      <td>76.2</td>\n",
       "      <td>87.50</td>\n",
       "      <td>AL6061</td>\n",
       "      <td>49500.000</td>\n",
       "    </tr>\n",
       "    <tr>\n",
       "      <th>...</th>\n",
       "      <td>...</td>\n",
       "      <td>...</td>\n",
       "      <td>...</td>\n",
       "      <td>...</td>\n",
       "      <td>...</td>\n",
       "      <td>...</td>\n",
       "      <td>...</td>\n",
       "      <td>...</td>\n",
       "      <td>...</td>\n",
       "      <td>...</td>\n",
       "      <td>...</td>\n",
       "      <td>...</td>\n",
       "      <td>...</td>\n",
       "      <td>...</td>\n",
       "      <td>...</td>\n",
       "      <td>...</td>\n",
       "      <td>...</td>\n",
       "      <td>...</td>\n",
       "    </tr>\n",
       "    <tr>\n",
       "      <th>779</th>\n",
       "      <td>1</td>\n",
       "      <td>國內設備商</td>\n",
       "      <td>A</td>\n",
       "      <td>X</td>\n",
       "      <td>S</td>\n",
       "      <td>40</td>\n",
       "      <td>C</td>\n",
       "      <td>N</td>\n",
       "      <td>R</td>\n",
       "      <td>170.0</td>\n",
       "      <td>241.0</td>\n",
       "      <td>70.0</td>\n",
       "      <td>241.0</td>\n",
       "      <td>SUS420</td>\n",
       "      <td>170.0</td>\n",
       "      <td>127.00</td>\n",
       "      <td>SUS304</td>\n",
       "      <td>80870.200</td>\n",
       "    </tr>\n",
       "    <tr>\n",
       "      <th>780</th>\n",
       "      <td>1</td>\n",
       "      <td>國內設備商</td>\n",
       "      <td>A</td>\n",
       "      <td>X</td>\n",
       "      <td>S</td>\n",
       "      <td>40</td>\n",
       "      <td>C</td>\n",
       "      <td>N</td>\n",
       "      <td>R</td>\n",
       "      <td>170.0</td>\n",
       "      <td>241.0</td>\n",
       "      <td>70.0</td>\n",
       "      <td>241.0</td>\n",
       "      <td>SUS420</td>\n",
       "      <td>170.0</td>\n",
       "      <td>127.00</td>\n",
       "      <td>SUS304</td>\n",
       "      <td>81705.615</td>\n",
       "    </tr>\n",
       "    <tr>\n",
       "      <th>781</th>\n",
       "      <td>1</td>\n",
       "      <td>國內設備商</td>\n",
       "      <td>A</td>\n",
       "      <td>X</td>\n",
       "      <td>S</td>\n",
       "      <td>40</td>\n",
       "      <td>C</td>\n",
       "      <td>N</td>\n",
       "      <td>R</td>\n",
       "      <td>170.0</td>\n",
       "      <td>241.0</td>\n",
       "      <td>70.0</td>\n",
       "      <td>241.0</td>\n",
       "      <td>SUS420</td>\n",
       "      <td>170.0</td>\n",
       "      <td>127.00</td>\n",
       "      <td>SUS304</td>\n",
       "      <td>80754.150</td>\n",
       "    </tr>\n",
       "    <tr>\n",
       "      <th>782</th>\n",
       "      <td>1</td>\n",
       "      <td>國內設備商</td>\n",
       "      <td>A</td>\n",
       "      <td>X</td>\n",
       "      <td>S</td>\n",
       "      <td>40</td>\n",
       "      <td>C</td>\n",
       "      <td>N</td>\n",
       "      <td>R</td>\n",
       "      <td>170.0</td>\n",
       "      <td>241.0</td>\n",
       "      <td>70.0</td>\n",
       "      <td>241.0</td>\n",
       "      <td>SUS420</td>\n",
       "      <td>170.0</td>\n",
       "      <td>127.00</td>\n",
       "      <td>SUS304</td>\n",
       "      <td>80754.150</td>\n",
       "    </tr>\n",
       "    <tr>\n",
       "      <th>783</th>\n",
       "      <td>1</td>\n",
       "      <td>國內設備商</td>\n",
       "      <td>A</td>\n",
       "      <td>X</td>\n",
       "      <td>S</td>\n",
       "      <td>40</td>\n",
       "      <td>C</td>\n",
       "      <td>N</td>\n",
       "      <td>R</td>\n",
       "      <td>170.0</td>\n",
       "      <td>241.0</td>\n",
       "      <td>70.0</td>\n",
       "      <td>241.0</td>\n",
       "      <td>SUS420</td>\n",
       "      <td>170.0</td>\n",
       "      <td>127.00</td>\n",
       "      <td>SUS304</td>\n",
       "      <td>80754.150</td>\n",
       "    </tr>\n",
       "  </tbody>\n",
       "</table>\n",
       "<p>744 rows × 18 columns</p>\n",
       "</div>"
      ],
      "text/plain": [
       "     order quantity  Types SPEC_1st_L1 SPEC_1st_L2 SPEC_1st_L3  SPEC_1st_N  \\\n",
       "0                 1   國內終端           X           X           S          20   \n",
       "1                 1   國內終端           X           X           S         625   \n",
       "2                 1   國內終端           X           X           S         625   \n",
       "3                 1  國內設備商           X           X           S          30   \n",
       "4                 1   國內終端           X           X           S         625   \n",
       "..              ...    ...         ...         ...         ...         ...   \n",
       "779               1  國內設備商           A           X           S          40   \n",
       "780               1  國內設備商           A           X           S          40   \n",
       "781               1  國內設備商           A           X           S          40   \n",
       "782               1  國內設備商           A           X           S          40   \n",
       "783               1  國內設備商           A           X           S          40   \n",
       "\n",
       "    SPEC_2nd_L1 SPEC_2nd_L2 SPEC_2nd_L3  Ap_outer_r   Ap_L  cen_outter_r  \\\n",
       "0             W           M           R       105.0  136.0          29.0   \n",
       "1             A           M           N        76.2  204.0          44.0   \n",
       "2             A           M           N        76.2  204.0          44.0   \n",
       "3             W           M           R       128.0  180.5          54.9   \n",
       "4             A           M           N        76.2  204.0          44.0   \n",
       "..          ...         ...         ...         ...    ...           ...   \n",
       "779           C           N           R       170.0  241.0          70.0   \n",
       "780           C           N           R       170.0  241.0          70.0   \n",
       "781           C           N           R       170.0  241.0          70.0   \n",
       "782           C           N           R       170.0  241.0          70.0   \n",
       "783           C           N           R       170.0  241.0          70.0   \n",
       "\n",
       "     cen_L cen_material  Shell_outer_r  shell_L shell_material  price per unit  \n",
       "0    136.0       SUS420          105.0    87.85         SUS304       53000.000  \n",
       "1    204.0       SUS420           76.2    87.50         AL6061       49500.000  \n",
       "2    204.0       SUS420           76.2    87.50         AL6061       49500.000  \n",
       "3    180.5       SUS420          128.0   121.00         SUS304       59015.000  \n",
       "4    204.0       SUS420           76.2    87.50         AL6061       49500.000  \n",
       "..     ...          ...            ...      ...            ...             ...  \n",
       "779  241.0       SUS420          170.0   127.00         SUS304       80870.200  \n",
       "780  241.0       SUS420          170.0   127.00         SUS304       81705.615  \n",
       "781  241.0       SUS420          170.0   127.00         SUS304       80754.150  \n",
       "782  241.0       SUS420          170.0   127.00         SUS304       80754.150  \n",
       "783  241.0       SUS420          170.0   127.00         SUS304       80754.150  \n",
       "\n",
       "[744 rows x 18 columns]"
      ]
     },
     "execution_count": 4,
     "metadata": {},
     "output_type": "execute_result"
    }
   ],
   "source": [
    "## show load data\n",
    "pd.set_option('display.max_columns', None)\n",
    "df.reset_index(inplace=True,drop=True)\n",
    "df=df[Train_col_list]\n",
    "q=df['price per unit'].quantile(0.95)\n",
    "df=df[df['price per unit']<q]\n",
    "df.to_pickle('df_templet_noCus_noWay.pkl')\n",
    "df"
   ]
  },
  {
   "cell_type": "markdown",
   "id": "7x_uS5N9vdaH",
   "metadata": {
    "id": "7x_uS5N9vdaH"
   },
   "source": [
    "Split Data into Numerical and Categorical Data"
   ]
  },
  {
   "cell_type": "code",
   "execution_count": 5,
   "id": "f18ba588",
   "metadata": {},
   "outputs": [],
   "source": [
    "def feature_col_clean_split (dataframe):\n",
    "    \n",
    "    from sklearn.preprocessing import MinMaxScaler\n",
    "    numerical = dataframe.select_dtypes(exclude=['object'])\n",
    "    numerical.fillna(0,inplace = True)\n",
    "    numerical.round(4)\n",
    "    categoric = dataframe.select_dtypes(include=['object'])\n",
    "    categoric.fillna('NONE',inplace = True)\n",
    "    dataframe = numerical.merge(categoric, left_index = True, right_index = True)\n",
    "    \n",
    "    dummies = pd.get_dummies(categoric,drop_first=True)\n",
    "    \n",
    "    data = pd.concat([numerical,dummies],axis=1)\n",
    "    \n",
    "    return data,numerical,categoric,dummies"
   ]
  },
  {
   "cell_type": "code",
   "execution_count": 6,
   "id": "c2c91145-e0e5-4034-9566-04c753a10deb",
   "metadata": {
    "id": "51085d79-bf02-400f-9e40-260510b99a37"
   },
   "outputs": [
    {
     "name": "stderr",
     "output_type": "stream",
     "text": [
      "C:\\Users\\James\\.conda\\envs\\data\\lib\\site-packages\\pandas\\core\\frame.py:4462: SettingWithCopyWarning: \n",
      "A value is trying to be set on a copy of a slice from a DataFrame\n",
      "\n",
      "See the caveats in the documentation: https://pandas.pydata.org/pandas-docs/stable/user_guide/indexing.html#returning-a-view-versus-a-copy\n",
      "  return super().fillna(\n"
     ]
    }
   ],
   "source": [
    "data,num,cat,dum=feature_col_clean_split(df)"
   ]
  },
  {
   "cell_type": "code",
   "execution_count": 7,
   "id": "ab09d025-e829-4237-8321-f031792dedc2",
   "metadata": {
    "id": "51085d79-bf02-400f-9e40-260510b99a37"
   },
   "outputs": [
    {
     "data": {
      "text/plain": [
       "Index(['Types_國內終端', 'Types_國內設備商', 'Types_國外代理商', 'Types_國外終端', 'Types_國外設備商',\n",
       "       'SPEC_1st_L1_B', 'SPEC_1st_L1_D', 'SPEC_1st_L1_X', 'SPEC_1st_L2_C',\n",
       "       'SPEC_1st_L2_F', 'SPEC_1st_L2_G', 'SPEC_1st_L2_K', 'SPEC_1st_L2_N',\n",
       "       'SPEC_1st_L2_S', 'SPEC_1st_L2_X', 'SPEC_1st_L3_H', 'SPEC_1st_L3_M',\n",
       "       'SPEC_1st_L3_S', 'SPEC_1st_L3_X', 'SPEC_2nd_L1_C', 'SPEC_2nd_L1_W',\n",
       "       'SPEC_2nd_L2_M', 'SPEC_2nd_L2_N', 'SPEC_2nd_L3_H', 'SPEC_2nd_L3_N',\n",
       "       'SPEC_2nd_L3_R', 'SPEC_2nd_L3_U', 'SPEC_2nd_L3_X', 'SPEC_2nd_L3_Z',\n",
       "       'cen_material_SUS304', 'cen_material_SUS420',\n",
       "       'cen_material_SUS420+SUS304', 'cen_material_SUS630',\n",
       "       'shell_material_SUS303', 'shell_material_SUS304',\n",
       "       'shell_material_SUS316', 'shell_material_SUS316L'],\n",
       "      dtype='object')"
      ]
     },
     "execution_count": 7,
     "metadata": {},
     "output_type": "execute_result"
    }
   ],
   "source": [
    "dum.columns"
   ]
  },
  {
   "cell_type": "code",
   "execution_count": 8,
   "id": "4d65cf85",
   "metadata": {},
   "outputs": [
    {
     "data": {
      "text/html": [
       "<div>\n",
       "<style scoped>\n",
       "    .dataframe tbody tr th:only-of-type {\n",
       "        vertical-align: middle;\n",
       "    }\n",
       "\n",
       "    .dataframe tbody tr th {\n",
       "        vertical-align: top;\n",
       "    }\n",
       "\n",
       "    .dataframe thead th {\n",
       "        text-align: right;\n",
       "    }\n",
       "</style>\n",
       "<table border=\"1\" class=\"dataframe\">\n",
       "  <thead>\n",
       "    <tr style=\"text-align: right;\">\n",
       "      <th></th>\n",
       "      <th>order quantity</th>\n",
       "      <th>SPEC_1st_N</th>\n",
       "      <th>Ap_outer_r</th>\n",
       "      <th>Ap_L</th>\n",
       "      <th>cen_outter_r</th>\n",
       "      <th>cen_L</th>\n",
       "      <th>Shell_outer_r</th>\n",
       "      <th>shell_L</th>\n",
       "      <th>price per unit</th>\n",
       "      <th>Types_國內終端</th>\n",
       "      <th>Types_國內設備商</th>\n",
       "      <th>Types_國外代理商</th>\n",
       "      <th>Types_國外終端</th>\n",
       "      <th>Types_國外設備商</th>\n",
       "      <th>SPEC_1st_L1_B</th>\n",
       "      <th>SPEC_1st_L1_D</th>\n",
       "      <th>SPEC_1st_L1_X</th>\n",
       "      <th>SPEC_1st_L2_C</th>\n",
       "      <th>SPEC_1st_L2_F</th>\n",
       "      <th>SPEC_1st_L2_G</th>\n",
       "      <th>SPEC_1st_L2_K</th>\n",
       "      <th>SPEC_1st_L2_N</th>\n",
       "      <th>SPEC_1st_L2_S</th>\n",
       "      <th>SPEC_1st_L2_X</th>\n",
       "      <th>SPEC_1st_L3_H</th>\n",
       "      <th>SPEC_1st_L3_M</th>\n",
       "      <th>SPEC_1st_L3_S</th>\n",
       "      <th>SPEC_1st_L3_X</th>\n",
       "      <th>SPEC_2nd_L1_C</th>\n",
       "      <th>SPEC_2nd_L1_W</th>\n",
       "      <th>SPEC_2nd_L2_M</th>\n",
       "      <th>SPEC_2nd_L2_N</th>\n",
       "      <th>SPEC_2nd_L3_H</th>\n",
       "      <th>SPEC_2nd_L3_N</th>\n",
       "      <th>SPEC_2nd_L3_R</th>\n",
       "      <th>SPEC_2nd_L3_U</th>\n",
       "      <th>SPEC_2nd_L3_X</th>\n",
       "      <th>SPEC_2nd_L3_Z</th>\n",
       "      <th>cen_material_SUS304</th>\n",
       "      <th>cen_material_SUS420</th>\n",
       "      <th>cen_material_SUS420+SUS304</th>\n",
       "      <th>cen_material_SUS630</th>\n",
       "      <th>shell_material_SUS303</th>\n",
       "      <th>shell_material_SUS304</th>\n",
       "      <th>shell_material_SUS316</th>\n",
       "      <th>shell_material_SUS316L</th>\n",
       "    </tr>\n",
       "  </thead>\n",
       "  <tbody>\n",
       "    <tr>\n",
       "      <th>0</th>\n",
       "      <td>1</td>\n",
       "      <td>20</td>\n",
       "      <td>105.0</td>\n",
       "      <td>136.0</td>\n",
       "      <td>29.0</td>\n",
       "      <td>136.0</td>\n",
       "      <td>105.0</td>\n",
       "      <td>87.85</td>\n",
       "      <td>53000.000</td>\n",
       "      <td>1</td>\n",
       "      <td>0</td>\n",
       "      <td>0</td>\n",
       "      <td>0</td>\n",
       "      <td>0</td>\n",
       "      <td>0</td>\n",
       "      <td>0</td>\n",
       "      <td>1</td>\n",
       "      <td>0</td>\n",
       "      <td>0</td>\n",
       "      <td>0</td>\n",
       "      <td>0</td>\n",
       "      <td>0</td>\n",
       "      <td>0</td>\n",
       "      <td>1</td>\n",
       "      <td>0</td>\n",
       "      <td>0</td>\n",
       "      <td>1</td>\n",
       "      <td>0</td>\n",
       "      <td>0</td>\n",
       "      <td>1</td>\n",
       "      <td>1</td>\n",
       "      <td>0</td>\n",
       "      <td>0</td>\n",
       "      <td>0</td>\n",
       "      <td>1</td>\n",
       "      <td>0</td>\n",
       "      <td>0</td>\n",
       "      <td>0</td>\n",
       "      <td>0</td>\n",
       "      <td>1</td>\n",
       "      <td>0</td>\n",
       "      <td>0</td>\n",
       "      <td>0</td>\n",
       "      <td>1</td>\n",
       "      <td>0</td>\n",
       "      <td>0</td>\n",
       "    </tr>\n",
       "    <tr>\n",
       "      <th>1</th>\n",
       "      <td>1</td>\n",
       "      <td>625</td>\n",
       "      <td>76.2</td>\n",
       "      <td>204.0</td>\n",
       "      <td>44.0</td>\n",
       "      <td>204.0</td>\n",
       "      <td>76.2</td>\n",
       "      <td>87.50</td>\n",
       "      <td>49500.000</td>\n",
       "      <td>1</td>\n",
       "      <td>0</td>\n",
       "      <td>0</td>\n",
       "      <td>0</td>\n",
       "      <td>0</td>\n",
       "      <td>0</td>\n",
       "      <td>0</td>\n",
       "      <td>1</td>\n",
       "      <td>0</td>\n",
       "      <td>0</td>\n",
       "      <td>0</td>\n",
       "      <td>0</td>\n",
       "      <td>0</td>\n",
       "      <td>0</td>\n",
       "      <td>1</td>\n",
       "      <td>0</td>\n",
       "      <td>0</td>\n",
       "      <td>1</td>\n",
       "      <td>0</td>\n",
       "      <td>0</td>\n",
       "      <td>0</td>\n",
       "      <td>1</td>\n",
       "      <td>0</td>\n",
       "      <td>0</td>\n",
       "      <td>1</td>\n",
       "      <td>0</td>\n",
       "      <td>0</td>\n",
       "      <td>0</td>\n",
       "      <td>0</td>\n",
       "      <td>0</td>\n",
       "      <td>1</td>\n",
       "      <td>0</td>\n",
       "      <td>0</td>\n",
       "      <td>0</td>\n",
       "      <td>0</td>\n",
       "      <td>0</td>\n",
       "      <td>0</td>\n",
       "    </tr>\n",
       "    <tr>\n",
       "      <th>2</th>\n",
       "      <td>1</td>\n",
       "      <td>625</td>\n",
       "      <td>76.2</td>\n",
       "      <td>204.0</td>\n",
       "      <td>44.0</td>\n",
       "      <td>204.0</td>\n",
       "      <td>76.2</td>\n",
       "      <td>87.50</td>\n",
       "      <td>49500.000</td>\n",
       "      <td>1</td>\n",
       "      <td>0</td>\n",
       "      <td>0</td>\n",
       "      <td>0</td>\n",
       "      <td>0</td>\n",
       "      <td>0</td>\n",
       "      <td>0</td>\n",
       "      <td>1</td>\n",
       "      <td>0</td>\n",
       "      <td>0</td>\n",
       "      <td>0</td>\n",
       "      <td>0</td>\n",
       "      <td>0</td>\n",
       "      <td>0</td>\n",
       "      <td>1</td>\n",
       "      <td>0</td>\n",
       "      <td>0</td>\n",
       "      <td>1</td>\n",
       "      <td>0</td>\n",
       "      <td>0</td>\n",
       "      <td>0</td>\n",
       "      <td>1</td>\n",
       "      <td>0</td>\n",
       "      <td>0</td>\n",
       "      <td>1</td>\n",
       "      <td>0</td>\n",
       "      <td>0</td>\n",
       "      <td>0</td>\n",
       "      <td>0</td>\n",
       "      <td>0</td>\n",
       "      <td>1</td>\n",
       "      <td>0</td>\n",
       "      <td>0</td>\n",
       "      <td>0</td>\n",
       "      <td>0</td>\n",
       "      <td>0</td>\n",
       "      <td>0</td>\n",
       "    </tr>\n",
       "    <tr>\n",
       "      <th>3</th>\n",
       "      <td>1</td>\n",
       "      <td>30</td>\n",
       "      <td>128.0</td>\n",
       "      <td>180.5</td>\n",
       "      <td>54.9</td>\n",
       "      <td>180.5</td>\n",
       "      <td>128.0</td>\n",
       "      <td>121.00</td>\n",
       "      <td>59015.000</td>\n",
       "      <td>0</td>\n",
       "      <td>1</td>\n",
       "      <td>0</td>\n",
       "      <td>0</td>\n",
       "      <td>0</td>\n",
       "      <td>0</td>\n",
       "      <td>0</td>\n",
       "      <td>1</td>\n",
       "      <td>0</td>\n",
       "      <td>0</td>\n",
       "      <td>0</td>\n",
       "      <td>0</td>\n",
       "      <td>0</td>\n",
       "      <td>0</td>\n",
       "      <td>1</td>\n",
       "      <td>0</td>\n",
       "      <td>0</td>\n",
       "      <td>1</td>\n",
       "      <td>0</td>\n",
       "      <td>0</td>\n",
       "      <td>1</td>\n",
       "      <td>1</td>\n",
       "      <td>0</td>\n",
       "      <td>0</td>\n",
       "      <td>0</td>\n",
       "      <td>1</td>\n",
       "      <td>0</td>\n",
       "      <td>0</td>\n",
       "      <td>0</td>\n",
       "      <td>0</td>\n",
       "      <td>1</td>\n",
       "      <td>0</td>\n",
       "      <td>0</td>\n",
       "      <td>0</td>\n",
       "      <td>1</td>\n",
       "      <td>0</td>\n",
       "      <td>0</td>\n",
       "    </tr>\n",
       "    <tr>\n",
       "      <th>4</th>\n",
       "      <td>1</td>\n",
       "      <td>625</td>\n",
       "      <td>76.2</td>\n",
       "      <td>204.0</td>\n",
       "      <td>44.0</td>\n",
       "      <td>204.0</td>\n",
       "      <td>76.2</td>\n",
       "      <td>87.50</td>\n",
       "      <td>49500.000</td>\n",
       "      <td>1</td>\n",
       "      <td>0</td>\n",
       "      <td>0</td>\n",
       "      <td>0</td>\n",
       "      <td>0</td>\n",
       "      <td>0</td>\n",
       "      <td>0</td>\n",
       "      <td>1</td>\n",
       "      <td>0</td>\n",
       "      <td>0</td>\n",
       "      <td>0</td>\n",
       "      <td>0</td>\n",
       "      <td>0</td>\n",
       "      <td>0</td>\n",
       "      <td>1</td>\n",
       "      <td>0</td>\n",
       "      <td>0</td>\n",
       "      <td>1</td>\n",
       "      <td>0</td>\n",
       "      <td>0</td>\n",
       "      <td>0</td>\n",
       "      <td>1</td>\n",
       "      <td>0</td>\n",
       "      <td>0</td>\n",
       "      <td>1</td>\n",
       "      <td>0</td>\n",
       "      <td>0</td>\n",
       "      <td>0</td>\n",
       "      <td>0</td>\n",
       "      <td>0</td>\n",
       "      <td>1</td>\n",
       "      <td>0</td>\n",
       "      <td>0</td>\n",
       "      <td>0</td>\n",
       "      <td>0</td>\n",
       "      <td>0</td>\n",
       "      <td>0</td>\n",
       "    </tr>\n",
       "    <tr>\n",
       "      <th>...</th>\n",
       "      <td>...</td>\n",
       "      <td>...</td>\n",
       "      <td>...</td>\n",
       "      <td>...</td>\n",
       "      <td>...</td>\n",
       "      <td>...</td>\n",
       "      <td>...</td>\n",
       "      <td>...</td>\n",
       "      <td>...</td>\n",
       "      <td>...</td>\n",
       "      <td>...</td>\n",
       "      <td>...</td>\n",
       "      <td>...</td>\n",
       "      <td>...</td>\n",
       "      <td>...</td>\n",
       "      <td>...</td>\n",
       "      <td>...</td>\n",
       "      <td>...</td>\n",
       "      <td>...</td>\n",
       "      <td>...</td>\n",
       "      <td>...</td>\n",
       "      <td>...</td>\n",
       "      <td>...</td>\n",
       "      <td>...</td>\n",
       "      <td>...</td>\n",
       "      <td>...</td>\n",
       "      <td>...</td>\n",
       "      <td>...</td>\n",
       "      <td>...</td>\n",
       "      <td>...</td>\n",
       "      <td>...</td>\n",
       "      <td>...</td>\n",
       "      <td>...</td>\n",
       "      <td>...</td>\n",
       "      <td>...</td>\n",
       "      <td>...</td>\n",
       "      <td>...</td>\n",
       "      <td>...</td>\n",
       "      <td>...</td>\n",
       "      <td>...</td>\n",
       "      <td>...</td>\n",
       "      <td>...</td>\n",
       "      <td>...</td>\n",
       "      <td>...</td>\n",
       "      <td>...</td>\n",
       "      <td>...</td>\n",
       "    </tr>\n",
       "    <tr>\n",
       "      <th>779</th>\n",
       "      <td>1</td>\n",
       "      <td>40</td>\n",
       "      <td>170.0</td>\n",
       "      <td>241.0</td>\n",
       "      <td>70.0</td>\n",
       "      <td>241.0</td>\n",
       "      <td>170.0</td>\n",
       "      <td>127.00</td>\n",
       "      <td>80870.200</td>\n",
       "      <td>0</td>\n",
       "      <td>1</td>\n",
       "      <td>0</td>\n",
       "      <td>0</td>\n",
       "      <td>0</td>\n",
       "      <td>0</td>\n",
       "      <td>0</td>\n",
       "      <td>0</td>\n",
       "      <td>0</td>\n",
       "      <td>0</td>\n",
       "      <td>0</td>\n",
       "      <td>0</td>\n",
       "      <td>0</td>\n",
       "      <td>0</td>\n",
       "      <td>1</td>\n",
       "      <td>0</td>\n",
       "      <td>0</td>\n",
       "      <td>1</td>\n",
       "      <td>0</td>\n",
       "      <td>1</td>\n",
       "      <td>0</td>\n",
       "      <td>0</td>\n",
       "      <td>1</td>\n",
       "      <td>0</td>\n",
       "      <td>0</td>\n",
       "      <td>1</td>\n",
       "      <td>0</td>\n",
       "      <td>0</td>\n",
       "      <td>0</td>\n",
       "      <td>0</td>\n",
       "      <td>1</td>\n",
       "      <td>0</td>\n",
       "      <td>0</td>\n",
       "      <td>0</td>\n",
       "      <td>1</td>\n",
       "      <td>0</td>\n",
       "      <td>0</td>\n",
       "    </tr>\n",
       "    <tr>\n",
       "      <th>780</th>\n",
       "      <td>1</td>\n",
       "      <td>40</td>\n",
       "      <td>170.0</td>\n",
       "      <td>241.0</td>\n",
       "      <td>70.0</td>\n",
       "      <td>241.0</td>\n",
       "      <td>170.0</td>\n",
       "      <td>127.00</td>\n",
       "      <td>81705.615</td>\n",
       "      <td>0</td>\n",
       "      <td>1</td>\n",
       "      <td>0</td>\n",
       "      <td>0</td>\n",
       "      <td>0</td>\n",
       "      <td>0</td>\n",
       "      <td>0</td>\n",
       "      <td>0</td>\n",
       "      <td>0</td>\n",
       "      <td>0</td>\n",
       "      <td>0</td>\n",
       "      <td>0</td>\n",
       "      <td>0</td>\n",
       "      <td>0</td>\n",
       "      <td>1</td>\n",
       "      <td>0</td>\n",
       "      <td>0</td>\n",
       "      <td>1</td>\n",
       "      <td>0</td>\n",
       "      <td>1</td>\n",
       "      <td>0</td>\n",
       "      <td>0</td>\n",
       "      <td>1</td>\n",
       "      <td>0</td>\n",
       "      <td>0</td>\n",
       "      <td>1</td>\n",
       "      <td>0</td>\n",
       "      <td>0</td>\n",
       "      <td>0</td>\n",
       "      <td>0</td>\n",
       "      <td>1</td>\n",
       "      <td>0</td>\n",
       "      <td>0</td>\n",
       "      <td>0</td>\n",
       "      <td>1</td>\n",
       "      <td>0</td>\n",
       "      <td>0</td>\n",
       "    </tr>\n",
       "    <tr>\n",
       "      <th>781</th>\n",
       "      <td>1</td>\n",
       "      <td>40</td>\n",
       "      <td>170.0</td>\n",
       "      <td>241.0</td>\n",
       "      <td>70.0</td>\n",
       "      <td>241.0</td>\n",
       "      <td>170.0</td>\n",
       "      <td>127.00</td>\n",
       "      <td>80754.150</td>\n",
       "      <td>0</td>\n",
       "      <td>1</td>\n",
       "      <td>0</td>\n",
       "      <td>0</td>\n",
       "      <td>0</td>\n",
       "      <td>0</td>\n",
       "      <td>0</td>\n",
       "      <td>0</td>\n",
       "      <td>0</td>\n",
       "      <td>0</td>\n",
       "      <td>0</td>\n",
       "      <td>0</td>\n",
       "      <td>0</td>\n",
       "      <td>0</td>\n",
       "      <td>1</td>\n",
       "      <td>0</td>\n",
       "      <td>0</td>\n",
       "      <td>1</td>\n",
       "      <td>0</td>\n",
       "      <td>1</td>\n",
       "      <td>0</td>\n",
       "      <td>0</td>\n",
       "      <td>1</td>\n",
       "      <td>0</td>\n",
       "      <td>0</td>\n",
       "      <td>1</td>\n",
       "      <td>0</td>\n",
       "      <td>0</td>\n",
       "      <td>0</td>\n",
       "      <td>0</td>\n",
       "      <td>1</td>\n",
       "      <td>0</td>\n",
       "      <td>0</td>\n",
       "      <td>0</td>\n",
       "      <td>1</td>\n",
       "      <td>0</td>\n",
       "      <td>0</td>\n",
       "    </tr>\n",
       "    <tr>\n",
       "      <th>782</th>\n",
       "      <td>1</td>\n",
       "      <td>40</td>\n",
       "      <td>170.0</td>\n",
       "      <td>241.0</td>\n",
       "      <td>70.0</td>\n",
       "      <td>241.0</td>\n",
       "      <td>170.0</td>\n",
       "      <td>127.00</td>\n",
       "      <td>80754.150</td>\n",
       "      <td>0</td>\n",
       "      <td>1</td>\n",
       "      <td>0</td>\n",
       "      <td>0</td>\n",
       "      <td>0</td>\n",
       "      <td>0</td>\n",
       "      <td>0</td>\n",
       "      <td>0</td>\n",
       "      <td>0</td>\n",
       "      <td>0</td>\n",
       "      <td>0</td>\n",
       "      <td>0</td>\n",
       "      <td>0</td>\n",
       "      <td>0</td>\n",
       "      <td>1</td>\n",
       "      <td>0</td>\n",
       "      <td>0</td>\n",
       "      <td>1</td>\n",
       "      <td>0</td>\n",
       "      <td>1</td>\n",
       "      <td>0</td>\n",
       "      <td>0</td>\n",
       "      <td>1</td>\n",
       "      <td>0</td>\n",
       "      <td>0</td>\n",
       "      <td>1</td>\n",
       "      <td>0</td>\n",
       "      <td>0</td>\n",
       "      <td>0</td>\n",
       "      <td>0</td>\n",
       "      <td>1</td>\n",
       "      <td>0</td>\n",
       "      <td>0</td>\n",
       "      <td>0</td>\n",
       "      <td>1</td>\n",
       "      <td>0</td>\n",
       "      <td>0</td>\n",
       "    </tr>\n",
       "    <tr>\n",
       "      <th>783</th>\n",
       "      <td>1</td>\n",
       "      <td>40</td>\n",
       "      <td>170.0</td>\n",
       "      <td>241.0</td>\n",
       "      <td>70.0</td>\n",
       "      <td>241.0</td>\n",
       "      <td>170.0</td>\n",
       "      <td>127.00</td>\n",
       "      <td>80754.150</td>\n",
       "      <td>0</td>\n",
       "      <td>1</td>\n",
       "      <td>0</td>\n",
       "      <td>0</td>\n",
       "      <td>0</td>\n",
       "      <td>0</td>\n",
       "      <td>0</td>\n",
       "      <td>0</td>\n",
       "      <td>0</td>\n",
       "      <td>0</td>\n",
       "      <td>0</td>\n",
       "      <td>0</td>\n",
       "      <td>0</td>\n",
       "      <td>0</td>\n",
       "      <td>1</td>\n",
       "      <td>0</td>\n",
       "      <td>0</td>\n",
       "      <td>1</td>\n",
       "      <td>0</td>\n",
       "      <td>1</td>\n",
       "      <td>0</td>\n",
       "      <td>0</td>\n",
       "      <td>1</td>\n",
       "      <td>0</td>\n",
       "      <td>0</td>\n",
       "      <td>1</td>\n",
       "      <td>0</td>\n",
       "      <td>0</td>\n",
       "      <td>0</td>\n",
       "      <td>0</td>\n",
       "      <td>1</td>\n",
       "      <td>0</td>\n",
       "      <td>0</td>\n",
       "      <td>0</td>\n",
       "      <td>1</td>\n",
       "      <td>0</td>\n",
       "      <td>0</td>\n",
       "    </tr>\n",
       "  </tbody>\n",
       "</table>\n",
       "<p>744 rows × 46 columns</p>\n",
       "</div>"
      ],
      "text/plain": [
       "     order quantity  SPEC_1st_N  Ap_outer_r   Ap_L  cen_outter_r  cen_L  \\\n",
       "0                 1          20       105.0  136.0          29.0  136.0   \n",
       "1                 1         625        76.2  204.0          44.0  204.0   \n",
       "2                 1         625        76.2  204.0          44.0  204.0   \n",
       "3                 1          30       128.0  180.5          54.9  180.5   \n",
       "4                 1         625        76.2  204.0          44.0  204.0   \n",
       "..              ...         ...         ...    ...           ...    ...   \n",
       "779               1          40       170.0  241.0          70.0  241.0   \n",
       "780               1          40       170.0  241.0          70.0  241.0   \n",
       "781               1          40       170.0  241.0          70.0  241.0   \n",
       "782               1          40       170.0  241.0          70.0  241.0   \n",
       "783               1          40       170.0  241.0          70.0  241.0   \n",
       "\n",
       "     Shell_outer_r  shell_L  price per unit  Types_國內終端  Types_國內設備商  \\\n",
       "0            105.0    87.85       53000.000           1            0   \n",
       "1             76.2    87.50       49500.000           1            0   \n",
       "2             76.2    87.50       49500.000           1            0   \n",
       "3            128.0   121.00       59015.000           0            1   \n",
       "4             76.2    87.50       49500.000           1            0   \n",
       "..             ...      ...             ...         ...          ...   \n",
       "779          170.0   127.00       80870.200           0            1   \n",
       "780          170.0   127.00       81705.615           0            1   \n",
       "781          170.0   127.00       80754.150           0            1   \n",
       "782          170.0   127.00       80754.150           0            1   \n",
       "783          170.0   127.00       80754.150           0            1   \n",
       "\n",
       "     Types_國外代理商  Types_國外終端  Types_國外設備商  SPEC_1st_L1_B  SPEC_1st_L1_D  \\\n",
       "0              0           0            0              0              0   \n",
       "1              0           0            0              0              0   \n",
       "2              0           0            0              0              0   \n",
       "3              0           0            0              0              0   \n",
       "4              0           0            0              0              0   \n",
       "..           ...         ...          ...            ...            ...   \n",
       "779            0           0            0              0              0   \n",
       "780            0           0            0              0              0   \n",
       "781            0           0            0              0              0   \n",
       "782            0           0            0              0              0   \n",
       "783            0           0            0              0              0   \n",
       "\n",
       "     SPEC_1st_L1_X  SPEC_1st_L2_C  SPEC_1st_L2_F  SPEC_1st_L2_G  \\\n",
       "0                1              0              0              0   \n",
       "1                1              0              0              0   \n",
       "2                1              0              0              0   \n",
       "3                1              0              0              0   \n",
       "4                1              0              0              0   \n",
       "..             ...            ...            ...            ...   \n",
       "779              0              0              0              0   \n",
       "780              0              0              0              0   \n",
       "781              0              0              0              0   \n",
       "782              0              0              0              0   \n",
       "783              0              0              0              0   \n",
       "\n",
       "     SPEC_1st_L2_K  SPEC_1st_L2_N  SPEC_1st_L2_S  SPEC_1st_L2_X  \\\n",
       "0                0              0              0              1   \n",
       "1                0              0              0              1   \n",
       "2                0              0              0              1   \n",
       "3                0              0              0              1   \n",
       "4                0              0              0              1   \n",
       "..             ...            ...            ...            ...   \n",
       "779              0              0              0              1   \n",
       "780              0              0              0              1   \n",
       "781              0              0              0              1   \n",
       "782              0              0              0              1   \n",
       "783              0              0              0              1   \n",
       "\n",
       "     SPEC_1st_L3_H  SPEC_1st_L3_M  SPEC_1st_L3_S  SPEC_1st_L3_X  \\\n",
       "0                0              0              1              0   \n",
       "1                0              0              1              0   \n",
       "2                0              0              1              0   \n",
       "3                0              0              1              0   \n",
       "4                0              0              1              0   \n",
       "..             ...            ...            ...            ...   \n",
       "779              0              0              1              0   \n",
       "780              0              0              1              0   \n",
       "781              0              0              1              0   \n",
       "782              0              0              1              0   \n",
       "783              0              0              1              0   \n",
       "\n",
       "     SPEC_2nd_L1_C  SPEC_2nd_L1_W  SPEC_2nd_L2_M  SPEC_2nd_L2_N  \\\n",
       "0                0              1              1              0   \n",
       "1                0              0              1              0   \n",
       "2                0              0              1              0   \n",
       "3                0              1              1              0   \n",
       "4                0              0              1              0   \n",
       "..             ...            ...            ...            ...   \n",
       "779              1              0              0              1   \n",
       "780              1              0              0              1   \n",
       "781              1              0              0              1   \n",
       "782              1              0              0              1   \n",
       "783              1              0              0              1   \n",
       "\n",
       "     SPEC_2nd_L3_H  SPEC_2nd_L3_N  SPEC_2nd_L3_R  SPEC_2nd_L3_U  \\\n",
       "0                0              0              1              0   \n",
       "1                0              1              0              0   \n",
       "2                0              1              0              0   \n",
       "3                0              0              1              0   \n",
       "4                0              1              0              0   \n",
       "..             ...            ...            ...            ...   \n",
       "779              0              0              1              0   \n",
       "780              0              0              1              0   \n",
       "781              0              0              1              0   \n",
       "782              0              0              1              0   \n",
       "783              0              0              1              0   \n",
       "\n",
       "     SPEC_2nd_L3_X  SPEC_2nd_L3_Z  cen_material_SUS304  cen_material_SUS420  \\\n",
       "0                0              0                    0                    1   \n",
       "1                0              0                    0                    1   \n",
       "2                0              0                    0                    1   \n",
       "3                0              0                    0                    1   \n",
       "4                0              0                    0                    1   \n",
       "..             ...            ...                  ...                  ...   \n",
       "779              0              0                    0                    1   \n",
       "780              0              0                    0                    1   \n",
       "781              0              0                    0                    1   \n",
       "782              0              0                    0                    1   \n",
       "783              0              0                    0                    1   \n",
       "\n",
       "     cen_material_SUS420+SUS304  cen_material_SUS630  shell_material_SUS303  \\\n",
       "0                             0                    0                      0   \n",
       "1                             0                    0                      0   \n",
       "2                             0                    0                      0   \n",
       "3                             0                    0                      0   \n",
       "4                             0                    0                      0   \n",
       "..                          ...                  ...                    ...   \n",
       "779                           0                    0                      0   \n",
       "780                           0                    0                      0   \n",
       "781                           0                    0                      0   \n",
       "782                           0                    0                      0   \n",
       "783                           0                    0                      0   \n",
       "\n",
       "     shell_material_SUS304  shell_material_SUS316  shell_material_SUS316L  \n",
       "0                        1                      0                       0  \n",
       "1                        0                      0                       0  \n",
       "2                        0                      0                       0  \n",
       "3                        1                      0                       0  \n",
       "4                        0                      0                       0  \n",
       "..                     ...                    ...                     ...  \n",
       "779                      1                      0                       0  \n",
       "780                      1                      0                       0  \n",
       "781                      1                      0                       0  \n",
       "782                      1                      0                       0  \n",
       "783                      1                      0                       0  \n",
       "\n",
       "[744 rows x 46 columns]"
      ]
     },
     "execution_count": 8,
     "metadata": {},
     "output_type": "execute_result"
    }
   ],
   "source": [
    "data"
   ]
  },
  {
   "cell_type": "markdown",
   "id": "V9yGXZdu78sw",
   "metadata": {
    "id": "V9yGXZdu78sw"
   },
   "source": [
    "# Set X and y"
   ]
  },
  {
   "cell_type": "code",
   "execution_count": 9,
   "id": "BaqicV8nwBC0",
   "metadata": {
    "id": "BaqicV8nwBC0"
   },
   "outputs": [],
   "source": [
    "y=data['price per unit'].values\n",
    "X=data.drop(['price per unit'],axis=1).values"
   ]
  },
  {
   "cell_type": "markdown",
   "id": "2bHUAM2Ov5xA",
   "metadata": {
    "id": "2bHUAM2Ov5xA"
   },
   "source": [
    "# Train Test splitting "
   ]
  },
  {
   "cell_type": "code",
   "execution_count": 10,
   "id": "a17e4f0f-70e4-4827-bb12-f578eed37e87",
   "metadata": {
    "id": "a17e4f0f-70e4-4827-bb12-f578eed37e87"
   },
   "outputs": [
    {
     "name": "stdout",
     "output_type": "stream",
     "text": [
      "594 train dataset\n",
      "149 validation dataset\n",
      "1 test dataset\n"
     ]
    }
   ],
   "source": [
    "from sklearn.model_selection import train_test_split\n",
    "x0_train, X_test, y0_train, y_test = train_test_split(X, y, test_size=0.001)\n",
    "X_train, X_val, y_train, y_val= train_test_split(x0_train, y0_train, test_size=0.2)\n",
    "print(len(X_train), 'train dataset')\n",
    "print(len(X_val), 'validation dataset')\n",
    "print(len(X_test), 'test dataset')"
   ]
  },
  {
   "cell_type": "code",
   "execution_count": 11,
   "id": "022eb825-b998-4941-b5d1-e7adfbe20c93",
   "metadata": {
    "id": "022eb825-b998-4941-b5d1-e7adfbe20c93"
   },
   "outputs": [
    {
     "data": {
      "text/plain": [
       "['x_scaler_noCus.pkl']"
      ]
     },
     "execution_count": 11,
     "metadata": {},
     "output_type": "execute_result"
    }
   ],
   "source": [
    "from sklearn.preprocessing import MinMaxScaler\n",
    "scaler=MinMaxScaler()\n",
    "X_train=scaler.fit_transform(X_train)\n",
    "X_val=scaler.fit_transform(X_val)\n",
    "X_test=scaler.transform(X_test)\n",
    "\n",
    "## Save Scaler\n",
    "import joblib\n",
    "joblib.dump(scaler,'x_scaler_noCus.pkl')"
   ]
  },
  {
   "cell_type": "code",
   "execution_count": 12,
   "id": "2e0c0c1b-6700-4939-af36-e282d48a9ba2",
   "metadata": {
    "id": "2e0c0c1b-6700-4939-af36-e282d48a9ba2"
   },
   "outputs": [],
   "source": [
    "from tensorflow.keras.models import Sequential\n",
    "from tensorflow.keras.layers import Dense"
   ]
  },
  {
   "cell_type": "code",
   "execution_count": 13,
   "id": "dec18bda-7c65-4fc9-b1d7-fc2bb6877db2",
   "metadata": {
    "id": "dec18bda-7c65-4fc9-b1d7-fc2bb6877db2"
   },
   "outputs": [
    {
     "data": {
      "text/plain": [
       "(594, 45)"
      ]
     },
     "execution_count": 13,
     "metadata": {},
     "output_type": "execute_result"
    }
   ],
   "source": [
    "X_train.shape"
   ]
  },
  {
   "cell_type": "code",
   "execution_count": 14,
   "id": "934e3187-7113-4c7c-b44a-0aa814c11dda",
   "metadata": {
    "id": "737cff51-3c26-4a78-8a11-77a2ffee0acf"
   },
   "outputs": [],
   "source": [
    "from tensorflow.keras.layers import Dropout\n",
    "from tensorflow.keras.callbacks import EarlyStopping\n",
    "\n",
    "\n",
    "model=Sequential()\n",
    "\n",
    "model.add(Dense(X_train.shape[1],activation='relu'))\n",
    "model.add(Dense(254,activation='relu'))\n",
    "model.add(Dense(254,activation='relu'))\n",
    "model.add(Dense(508,activation='relu'))\n",
    "model.add(Dense(508,activation='relu'))\n",
    "model.add(Dense(508,activation='relu'))\n",
    "model.add(Dense(1016,activation='relu'))\n",
    "model.add(Dense(1016,activation='relu'))\n",
    "model.add(Dense(1016,activation='relu'))\n",
    "model.add(Dense(1016,activation='relu'))\n",
    "model.add(Dense(1016,activation='relu'))\n",
    "model.add(Dense(1016,activation='relu'))\n",
    "model.add(Dropout(0.5))\n",
    "model.add(Dense(508,activation='relu'))\n",
    "model.add(Dense(508,activation='relu'))\n",
    "model.add(Dense(508,activation='relu'))\n",
    "model.add(Dropout(0.5))\n",
    "model.add(Dense(254,activation='relu'))\n",
    "model.add(Dense(254,activation='relu'))\n",
    "model.add(Dropout(0.5))\n",
    "model.add(Dense(X_train.shape[1],activation='relu'))\n",
    "\n",
    "model.add((Dense(1)))\n",
    "model.compile(optimizer='adam',loss='mse')"
   ]
  },
  {
   "cell_type": "code",
   "execution_count": 15,
   "id": "a815f185-4fe4-41d1-8449-e0df3b5d3bc6",
   "metadata": {
    "id": "a815f185-4fe4-41d1-8449-e0df3b5d3bc6"
   },
   "outputs": [
    {
     "name": "stdout",
     "output_type": "stream",
     "text": [
      "Epoch 00205: early stopping\n"
     ]
    },
    {
     "data": {
      "text/plain": [
       "<tensorflow.python.keras.callbacks.History at 0x197f3674d00>"
      ]
     },
     "execution_count": 15,
     "metadata": {},
     "output_type": "execute_result"
    }
   ],
   "source": [
    "early_stop=EarlyStopping(monitor='val_loss',mode='min',verbose=1,patience=100)\n",
    "model.fit(x=X_train,y=y_train,\n",
    "          validation_data=(X_val,y_val),\n",
    "          batch_size=512,\n",
    "          epochs=2000,\n",
    "          verbose=0,\n",
    "          callbacks=[early_stop]\n",
    "          )\n"
   ]
  },
  {
   "cell_type": "code",
   "execution_count": 16,
   "id": "6c3fc5d8-2531-4771-b0d0-ee7ff9b6295d",
   "metadata": {
    "id": "6c3fc5d8-2531-4771-b0d0-ee7ff9b6295d"
   },
   "outputs": [],
   "source": [
    "losses=pd.DataFrame(model.history.history)"
   ]
  },
  {
   "cell_type": "code",
   "execution_count": 17,
   "id": "eb439df8-1236-4c43-8deb-1dccaab03285",
   "metadata": {
    "id": "ce22234a-0495-46f8-a1db-51ada16fd9cd"
   },
   "outputs": [
    {
     "data": {
      "text/plain": [
       "<AxesSubplot:>"
      ]
     },
     "execution_count": 17,
     "metadata": {},
     "output_type": "execute_result"
    },
    {
     "data": {
      "text/plain": [
       "<Figure size 864x432 with 0 Axes>"
      ]
     },
     "metadata": {},
     "output_type": "display_data"
    },
    {
     "data": {
      "image/png": "[encoded data removed]",
      "text/plain": [
       "<Figure size 432x288 with 1 Axes>"
      ]
     },
     "metadata": {
      "needs_background": "light"
     },
     "output_type": "display_data"
    }
   ],
   "source": [
    "import matplotlib.pyplot as plt\n",
    "plt.figure(figsize=(12,6))\n",
    "losses.plot()"
   ]
  },
  {
   "cell_type": "code",
   "execution_count": 18,
   "id": "ae0702d2-d631-457e-87a9-5bdbfcba784e",
   "metadata": {
    "id": "ce22234a-0495-46f8-a1db-51ada16fd9cd"
   },
   "outputs": [
    {
     "name": "stdout",
     "output_type": "stream",
     "text": [
      "Model: \"sequential\"\n",
      "_________________________________________________________________\n",
      "Layer (type)                 Output Shape              Param #   \n",
      "=================================================================\n",
      "dense (Dense)                (None, 45)                2070      \n",
      "_________________________________________________________________\n",
      "dense_1 (Dense)              (None, 254)               11684     \n",
      "_________________________________________________________________\n",
      "dense_2 (Dense)              (None, 254)               64770     \n",
      "_________________________________________________________________\n",
      "dense_3 (Dense)              (None, 508)               129540    \n",
      "_________________________________________________________________\n",
      "dense_4 (Dense)              (None, 508)               258572    \n",
      "_________________________________________________________________\n",
      "dense_5 (Dense)              (None, 508)               258572    \n",
      "_________________________________________________________________\n",
      "dense_6 (Dense)              (None, 1016)              517144    \n",
      "_________________________________________________________________\n",
      "dense_7 (Dense)              (None, 1016)              1033272   \n",
      "_________________________________________________________________\n",
      "dense_8 (Dense)              (None, 1016)              1033272   \n",
      "_________________________________________________________________\n",
      "dense_9 (Dense)              (None, 1016)              1033272   \n",
      "_________________________________________________________________\n",
      "dense_10 (Dense)             (None, 1016)              1033272   \n",
      "_________________________________________________________________\n",
      "dense_11 (Dense)             (None, 1016)              1033272   \n",
      "_________________________________________________________________\n",
      "dropout (Dropout)            (None, 1016)              0         \n",
      "_________________________________________________________________\n",
      "dense_12 (Dense)             (None, 508)               516636    \n",
      "_________________________________________________________________\n",
      "dense_13 (Dense)             (None, 508)               258572    \n",
      "_________________________________________________________________\n",
      "dense_14 (Dense)             (None, 508)               258572    \n",
      "_________________________________________________________________\n",
      "dropout_1 (Dropout)          (None, 508)               0         \n",
      "_________________________________________________________________\n",
      "dense_15 (Dense)             (None, 254)               129286    \n",
      "_________________________________________________________________\n",
      "dense_16 (Dense)             (None, 254)               64770     \n",
      "_________________________________________________________________\n",
      "dropout_2 (Dropout)          (None, 254)               0         \n",
      "_________________________________________________________________\n",
      "dense_17 (Dense)             (None, 45)                11475     \n",
      "_________________________________________________________________\n",
      "dense_18 (Dense)             (None, 1)                 46        \n",
      "=================================================================\n",
      "Total params: 7,648,069\n",
      "Trainable params: 7,648,069\n",
      "Non-trainable params: 0\n",
      "_________________________________________________________________\n"
     ]
    }
   ],
   "source": [
    "model.summary()"
   ]
  },
  {
   "cell_type": "code",
   "execution_count": 19,
   "id": "468a5084-7bf8-45ab-a490-0080486874bf",
   "metadata": {
    "id": "468a5084-7bf8-45ab-a490-0080486874bf"
   },
   "outputs": [],
   "source": [
    "from sklearn.metrics import mean_squared_error,mean_absolute_error,explained_variance_score"
   ]
  },
  {
   "cell_type": "code",
   "execution_count": 20,
   "id": "1dece30e-5aee-4606-9945-6a9ccf418dc0",
   "metadata": {
    "id": "1dece30e-5aee-4606-9945-6a9ccf418dc0"
   },
   "outputs": [],
   "source": [
    "predictions=model.predict(X_test)"
   ]
  },
  {
   "cell_type": "code",
   "execution_count": 21,
   "id": "ef53228e-8a52-4788-95b1-5b166722a887",
   "metadata": {
    "id": "ef53228e-8a52-4788-95b1-5b166722a887"
   },
   "outputs": [
    {
     "data": {
      "text/plain": [
       "6906.837656249998"
      ]
     },
     "execution_count": 21,
     "metadata": {},
     "output_type": "execute_result"
    }
   ],
   "source": [
    "np.sqrt(mean_squared_error(y_test,predictions))"
   ]
  },
  {
   "cell_type": "code",
   "execution_count": 22,
   "id": "95573575-2ee7-4e7b-a0b4-91e912bea08b",
   "metadata": {
    "id": "95573575-2ee7-4e7b-a0b4-91e912bea08b"
   },
   "outputs": [
    {
     "data": {
      "text/plain": [
       "6906.837656249998"
      ]
     },
     "execution_count": 22,
     "metadata": {},
     "output_type": "execute_result"
    }
   ],
   "source": [
    "mean_absolute_error(y_test,predictions)"
   ]
  },
  {
   "cell_type": "code",
   "execution_count": 23,
   "id": "d4aef975-4bb1-4971-8444-b506bd13763c",
   "metadata": {
    "id": "d4aef975-4bb1-4971-8444-b506bd13763c"
   },
   "outputs": [
    {
     "data": {
      "text/plain": [
       "count      744.000000\n",
       "mean     30935.522560\n",
       "std      22914.438357\n",
       "min        680.960000\n",
       "25%      10131.544125\n",
       "50%      25210.125000\n",
       "75%      49000.000000\n",
       "max      92792.250000\n",
       "Name: price per unit, dtype: float64"
      ]
     },
     "execution_count": 23,
     "metadata": {},
     "output_type": "execute_result"
    }
   ],
   "source": [
    "df['price per unit'].describe()"
   ]
  },
  {
   "cell_type": "code",
   "execution_count": 24,
   "id": "eee72514-1659-4b31-8c23-aca842843445",
   "metadata": {
    "id": "eee72514-1659-4b31-8c23-aca842843445"
   },
   "outputs": [
    {
     "data": {
      "text/plain": [
       "1.0"
      ]
     },
     "execution_count": 24,
     "metadata": {},
     "output_type": "execute_result"
    }
   ],
   "source": [
    "explained_variance_score(y_test,predictions)"
   ]
  },
  {
   "cell_type": "code",
   "execution_count": 25,
   "id": "9bcc2da5-2ad0-4ee8-bc93-9af1982c0599",
   "metadata": {
    "id": "9bcc2da5-2ad0-4ee8-bc93-9af1982c0599",
    "scrolled": true
   },
   "outputs": [
    {
     "data": {
      "image/png": "[encoded data removed]",
      "text/plain": [
       "<Figure size 864x432 with 1 Axes>"
      ]
     },
     "metadata": {
      "needs_background": "light"
     },
     "output_type": "display_data"
    }
   ],
   "source": [
    "plt.figure(figsize=(12,6))\n",
    "plt.scatter(y_test,predictions)\n",
    "plt.plot(y_test,y_test,'r')\n",
    "plt.xlabel('Real value')\n",
    "plt.ylabel('Predictions')\n",
    "plt.show()"
   ]
  },
  {
   "cell_type": "code",
   "execution_count": 26,
   "id": "d44e665e-0a52-4f4c-a534-a4c47c6f740f",
   "metadata": {
    "id": "d44e665e-0a52-4f4c-a534-a4c47c6f740f"
   },
   "outputs": [],
   "source": [
    "import numpy as np\n",
    "i=np.random.randint(len(df), size=1)\n",
    "single_feedthrough=data.drop('price per unit',axis=1).iloc[i]"
   ]
  },
  {
   "cell_type": "code",
   "execution_count": 27,
   "id": "0887a2b0-2fa1-45bf-9d0f-de6e3a85217e",
   "metadata": {
    "id": "0887a2b0-2fa1-45bf-9d0f-de6e3a85217e"
   },
   "outputs": [],
   "source": [
    "single_feedthrough=scaler.transform(single_feedthrough.values.reshape(-1,X_train.shape[1]))"
   ]
  },
  {
   "cell_type": "code",
   "execution_count": 28,
   "id": "de1bd4cd-ec4f-4db4-a489-7e260b1b54b3",
   "metadata": {
    "id": "de1bd4cd-ec4f-4db4-a489-7e260b1b54b3"
   },
   "outputs": [
    {
     "data": {
      "text/plain": [
       "array([[7789.356]], dtype=float32)"
      ]
     },
     "execution_count": 28,
     "metadata": {},
     "output_type": "execute_result"
    }
   ],
   "source": [
    "model.predict(single_feedthrough)"
   ]
  },
  {
   "cell_type": "code",
   "execution_count": 29,
   "id": "d602250a-e1b9-4117-aadd-83012139211e",
   "metadata": {
    "id": "d602250a-e1b9-4117-aadd-83012139211e"
   },
   "outputs": [
    {
     "data": {
      "text/plain": [
       "527    9935.325\n",
       "Name: price per unit, dtype: float64"
      ]
     },
     "execution_count": 29,
     "metadata": {},
     "output_type": "execute_result"
    }
   ],
   "source": [
    "df['price per unit'].iloc[i]"
   ]
  },
  {
   "cell_type": "code",
   "execution_count": 30,
   "id": "3bc1fb2d-b934-4f81-98a3-c143236cbd65",
   "metadata": {
    "id": "3bc1fb2d-b934-4f81-98a3-c143236cbd65"
   },
   "outputs": [
    {
     "data": {
      "text/plain": [
       "(1,)"
      ]
     },
     "execution_count": 30,
     "metadata": {},
     "output_type": "execute_result"
    }
   ],
   "source": [
    "y_test.shape"
   ]
  },
  {
   "cell_type": "code",
   "execution_count": 31,
   "id": "71b6146e-556d-4a55-b8c8-c7445cc915a6",
   "metadata": {
    "id": "71b6146e-556d-4a55-b8c8-c7445cc915a6"
   },
   "outputs": [],
   "source": [
    "errors = y_test.reshape(y_test.shape[0], 1) - predictions"
   ]
  },
  {
   "cell_type": "code",
   "execution_count": 32,
   "id": "a9cb6026-421c-4568-ace5-09af03a861ca",
   "metadata": {
    "id": "a9cb6026-421c-4568-ace5-09af03a861ca"
   },
   "outputs": [
    {
     "name": "stderr",
     "output_type": "stream",
     "text": [
      "C:\\Users\\James\\.conda\\envs\\data\\lib\\site-packages\\seaborn\\distributions.py:2557: FutureWarning: `distplot` is a deprecated function and will be removed in a future version. Please adapt your code to use either `displot` (a figure-level function with similar flexibility) or `histplot` (an axes-level function for histograms).\n",
      "  warnings.warn(msg, FutureWarning)\n",
      "C:\\Users\\James\\.conda\\envs\\data\\lib\\site-packages\\seaborn\\distributions.py:306: UserWarning: Dataset has 0 variance; skipping density estimate.\n",
      "  warnings.warn(msg, UserWarning)\n"
     ]
    },
    {
     "data": {
      "image/png": "[encoded data removed]",
      "text/plain": [
       "<Figure size 864x432 with 1 Axes>"
      ]
     },
     "metadata": {
      "needs_background": "light"
     },
     "output_type": "display_data"
    }
   ],
   "source": [
    "import seaborn as sns\n",
    "plt.figure(figsize=(12,6))\n",
    "sns.distplot(errors)\n",
    "plt.xlabel('Errors')\n",
    "plt.show()"
   ]
  },
  {
   "cell_type": "code",
   "execution_count": 33,
   "id": "75c68f7c-c486-4da3-b5bc-dc86da17bd30",
   "metadata": {
    "id": "75c68f7c-c486-4da3-b5bc-dc86da17bd30"
   },
   "outputs": [],
   "source": [
    "model.save('model_noW_noCus.h5')"
   ]
  },
  {
   "cell_type": "code",
   "execution_count": null,
   "id": "W94qZslrwbg4",
   "metadata": {
    "id": "W94qZslrwbg4"
   },
   "outputs": [],
   "source": []
  }
 ],
 "metadata": {
  "accelerator": "TPU",
  "colab": {
   "collapsed_sections": [],
   "name": "Feedthrough_TF_NumCat.ipynb",
   "private_outputs": true,
   "provenance": []
  },
  "kernelspec": {
   "display_name": "Python 3",
   "language": "python",
   "name": "python3"
  },
  "language_info": {
   "codemirror_mode": {
    "name": "ipython",
    "version": 3
   },
   "file_extension": ".py",
   "mimetype": "text/x-python",
   "name": "python",
   "nbconvert_exporter": "python",
   "pygments_lexer": "ipython3",
   "version": "3.8.8"
  }
 },
 "nbformat": 4,
 "nbformat_minor": 5
}
