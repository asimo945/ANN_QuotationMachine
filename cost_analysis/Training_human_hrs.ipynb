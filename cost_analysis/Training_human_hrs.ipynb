{
 "cells": [
  {
   "cell_type": "code",
   "execution_count": null,
   "id": "60bc9a3a-3a2a-4466-9c5c-246be2218ad2",
   "metadata": {},
   "outputs": [],
   "source": [
    "import numpy as np\n",
    "import pandas as pd\n",
    "import tensorflow as tf"
   ]
  },
  {
   "cell_type": "code",
   "execution_count": null,
   "id": "2d14a574-91fb-4aa7-8db2-8eb7c3b308f3",
   "metadata": {},
   "outputs": [],
   "source": [
    "Train_col_list=['order quantity', \n",
    "                'SPEC_1st_N', \n",
    "                'SPEC_1st_L1', \n",
    "                'SPEC_1st_L2',\n",
    "                'SPEC_1st_L3', \n",
    "                'SPEC_2nd_L1',\n",
    "                'SPEC_2nd_L2',\n",
    "                'SPEC_2nd_L3',\n",
    "                'Customer',\n",
    "                'By_way',\n",
    "                'Types',\n",
    "                'Ap_outer_r',\n",
    "                'Ap_L',\n",
    "                'cen_outter_r',\n",
    "                'cen_L',\n",
    "                'cen_material',\n",
    "                'Shell_outer_r_1',\n",
    "                'Shell_outer_r_2',\n",
    "                'shell_L',\n",
    "                'shell_material',\n",
    "                'Human_Hrs',\n",
    "                'Material_Cost']"
   ]
  },
  {
   "cell_type": "markdown",
   "id": "caa1125a-484c-4230-bdaa-77965fa946a0",
   "metadata": {},
   "source": [
    "## Train to get human-hrs"
   ]
  },
  {
   "cell_type": "code",
   "execution_count": null,
   "id": "528e84f7-7b87-41a1-b6b4-a6eff39371fd",
   "metadata": {},
   "outputs": [],
   "source": [
    "9## load data ##\n",
    "df_dir=r'data_train.pkl'\n",
    "df= pd.read_pickle(df_dir)\n",
    "## Pandas settings\n",
    "pd.set_option('display.max_columns', None)\n",
    "df.reset_index(inplace=True,drop=True)\n",
    "df=df[Train_col_list]\n",
    "q=df['Human_Hrs'].quantile(0.99)\n",
    "df=df[df['Human_Hrs']<q]\n",
    "df"
   ]
  },
  {
   "cell_type": "code",
   "execution_count": null,
   "id": "b975719b-5161-40e6-893c-1046413cf830",
   "metadata": {},
   "outputs": [],
   "source": [
    "def feature_col_clean_split (dataframe):\n",
    "    \n",
    "    from sklearn.preprocessing import MinMaxScaler\n",
    "    numerical = dataframe.select_dtypes(exclude=['object'])\n",
    "    numerical.fillna(0,inplace = True)\n",
    "    numerical.round(4)\n",
    "    categoric = dataframe.select_dtypes(include=['object'])\n",
    "    categoric.fillna('NONE',inplace = True)\n",
    "    dataframe = numerical.merge(categoric, left_index = True, right_index = True)\n",
    "    \n",
    "    dummies = pd.get_dummies(categoric,drop_first=True)\n",
    "    \n",
    "    data = pd.concat([numerical,dummies],axis=1)\n",
    "    \n",
    "    return data,numerical,categoric,dummies"
   ]
  },
  {
   "cell_type": "code",
   "execution_count": null,
   "id": "27f78f68-c6b6-4ff4-a87f-5351ed069e55",
   "metadata": {},
   "outputs": [],
   "source": [
    "data,num,cat,dum=feature_col_clean_split(df)"
   ]
  },
  {
   "cell_type": "code",
   "execution_count": null,
   "id": "b8b55556-5ede-4a88-bbe3-e4f880a230fb",
   "metadata": {},
   "outputs": [],
   "source": [
    "dum.columns"
   ]
  },
  {
   "cell_type": "code",
   "execution_count": null,
   "id": "d4fdc4ea-4e91-4ef1-8cd5-c3dd76d4c82f",
   "metadata": {},
   "outputs": [],
   "source": [
    "data"
   ]
  },
  {
   "cell_type": "markdown",
   "id": "432ad437-0b9d-46fb-8bc5-99e7cfbbb503",
   "metadata": {},
   "source": [
    "# Set X and y"
   ]
  },
  {
   "cell_type": "code",
   "execution_count": null,
   "id": "d9ac2b5f-dc1c-4c89-ad05-91d7778bc063",
   "metadata": {},
   "outputs": [],
   "source": [
    "y=data['Human_Hrs'].values\n",
    "X=data.drop(['Human_Hrs'],axis=1).values"
   ]
  },
  {
   "cell_type": "markdown",
   "id": "90a56be1-bf61-4d73-a0bc-1dc2440707e3",
   "metadata": {},
   "source": [
    "### Train Test splitting "
   ]
  },
  {
   "cell_type": "code",
   "execution_count": null,
   "id": "8ca50c66-e068-48c3-ad1b-cdf0b6712a45",
   "metadata": {},
   "outputs": [],
   "source": [
    "from sklearn.model_selection import train_test_split\n",
    "x0_train, X_test, y0_train, y_test = train_test_split(X, y, test_size=0.1)\n",
    "X_train, X_val, y_train, y_val= train_test_split(x0_train, y0_train, test_size=0.1)\n",
    "print(len(X_train), 'train dataset')\n",
    "print(len(X_val), 'validation dataset')\n",
    "print(len(X_test), 'test dataset')"
   ]
  },
  {
   "cell_type": "code",
   "execution_count": null,
   "id": "e7a5dbb8-9c2e-46ac-b675-a9bd928eed68",
   "metadata": {},
   "outputs": [],
   "source": [
    "from sklearn.preprocessing import MinMaxScaler\n",
    "scaler=MinMaxScaler()\n",
    "X_train=scaler.fit_transform(X_train)\n",
    "X_val=scaler.fit_transform(X_val)\n",
    "X_test=scaler.transform(X_test)\n",
    "\n",
    "## Save Scaler\n",
    "import joblib\n",
    "joblib.dump(scaler,'x_scaler_huhrs.pkl')"
   ]
  },
  {
   "cell_type": "code",
   "execution_count": null,
   "id": "c9560845-2d29-4d7f-9564-2a45fd69a820",
   "metadata": {},
   "outputs": [],
   "source": [
    "from tensorflow.keras.models import Sequential\n",
    "from tensorflow.keras.layers import Dense"
   ]
  },
  {
   "cell_type": "code",
   "execution_count": null,
   "id": "02a25133-f1d8-4221-85ed-7eeb8379a906",
   "metadata": {},
   "outputs": [],
   "source": [
    "X_train.shape"
   ]
  },
  {
   "cell_type": "code",
   "execution_count": null,
   "id": "b8dbb2da-9f8c-45dc-9da9-4cfa10f76b4e",
   "metadata": {},
   "outputs": [],
   "source": [
    "from tensorflow.keras.layers import Dropout\n",
    "from tensorflow.keras.callbacks import EarlyStopping\n",
    "\n",
    "\n",
    "model=Sequential()\n",
    "\n",
    "model.add(Dense(X_train.shape[1],activation='relu'))\n",
    "model.add(Dense(254,activation='relu'))\n",
    "model.add(Dense(254,activation='relu'))\n",
    "model.add(Dense(508,activation='relu'))\n",
    "model.add(Dense(508,activation='relu'))\n",
    "model.add(Dense(508,activation='relu'))\n",
    "model.add(Dense(1016,activation='relu'))\n",
    "model.add(Dense(1016,activation='relu'))\n",
    "model.add(Dense(1016,activation='relu'))\n",
    "model.add(Dense(1016,activation='relu'))\n",
    "model.add(Dense(1016,activation='relu'))\n",
    "model.add(Dense(1016,activation='relu'))\n",
    "model.add(Dropout(0.5))\n",
    "model.add(Dense(508,activation='relu'))\n",
    "model.add(Dense(508,activation='relu'))\n",
    "model.add(Dense(508,activation='relu'))\n",
    "model.add(Dropout(0.5))\n",
    "model.add(Dense(254,activation='relu'))\n",
    "model.add(Dense(254,activation='relu'))\n",
    "model.add(Dropout(0.5))\n",
    "model.add(Dense(X_train.shape[1],activation='relu'))\n",
    "\n",
    "model.add((Dense(1)))\n",
    "model.compile(optimizer='adam',loss='mse')"
   ]
  },
  {
   "cell_type": "code",
   "execution_count": null,
   "id": "137cf6f0-706a-4438-85e7-7a7b8501dec9",
   "metadata": {},
   "outputs": [],
   "source": [
    "early_stop=EarlyStopping(monitor='val_loss',mode='min',verbose=1,patience=100)\n",
    "model.fit(x=X_train,y=y_train,\n",
    "          validation_data=(X_val,y_val),\n",
    "          batch_size=512,\n",
    "          epochs=2000,\n",
    "          verbose=0,\n",
    "          callbacks=[early_stop]\n",
    "          )\n"
   ]
  },
  {
   "cell_type": "code",
   "execution_count": null,
   "id": "ca25cbbd-1358-49cf-964e-2f19eeab8499",
   "metadata": {},
   "outputs": [],
   "source": [
    "losses=pd.DataFrame(model.history.history)"
   ]
  },
  {
   "cell_type": "code",
   "execution_count": null,
   "id": "e7f7f60d-3ad6-47b6-ab8d-c69b144de51a",
   "metadata": {},
   "outputs": [],
   "source": [
    "import matplotlib.pyplot as plt\n",
    "plt.figure(figsize=(12,6))\n",
    "losses.plot()"
   ]
  },
  {
   "cell_type": "code",
   "execution_count": null,
   "id": "b645cd93-a058-4204-9d7d-2fdd8111cfd2",
   "metadata": {},
   "outputs": [],
   "source": [
    "model.summary()"
   ]
  },
  {
   "cell_type": "code",
   "execution_count": null,
   "id": "b9b5d1b2-c75b-4d12-bdae-ea329cbe39e1",
   "metadata": {},
   "outputs": [],
   "source": [
    "from sklearn.metrics import mean_squared_error,mean_absolute_error,explained_variance_score"
   ]
  },
  {
   "cell_type": "code",
   "execution_count": null,
   "id": "2bbccea5-206c-4087-ac7d-07b11e7ef705",
   "metadata": {},
   "outputs": [],
   "source": [
    "predictions=model.predict(X_test)"
   ]
  },
  {
   "cell_type": "code",
   "execution_count": null,
   "id": "3cdea0f6-da90-473d-9db1-9807825dcd56",
   "metadata": {},
   "outputs": [],
   "source": [
    "np.sqrt(mean_squared_error(y_test,predictions))"
   ]
  },
  {
   "cell_type": "code",
   "execution_count": null,
   "id": "9518f308-ade5-4d51-95eb-19e4af373ec2",
   "metadata": {},
   "outputs": [],
   "source": [
    "mean_absolute_error(y_test,predictions)"
   ]
  },
  {
   "cell_type": "code",
   "execution_count": null,
   "id": "217db6c0-c02a-4678-87b8-4a1c5ef9050d",
   "metadata": {},
   "outputs": [],
   "source": [
    "df['Human_Hrs'].describe()"
   ]
  },
  {
   "cell_type": "code",
   "execution_count": null,
   "id": "54eebbeb-30b1-47df-b6da-28678a82c51b",
   "metadata": {},
   "outputs": [],
   "source": [
    "explained_variance_score(y_test,predictions)"
   ]
  },
  {
   "cell_type": "code",
   "execution_count": null,
   "id": "dd192ccb-b944-4ae7-88b2-b689a749b35d",
   "metadata": {},
   "outputs": [],
   "source": [
    "plt.figure(figsize=(12,6))\n",
    "plt.scatter(y_test,predictions)\n",
    "plt.plot(y_test,y_test,'r')\n",
    "plt.xlabel('Real value')\n",
    "plt.ylabel('Predictions')\n",
    "plt.show()"
   ]
  },
  {
   "cell_type": "code",
   "execution_count": null,
   "id": "18b973e4-6470-4133-b76b-edc55b3e5fd7",
   "metadata": {},
   "outputs": [],
   "source": [
    "import numpy as np\n",
    "i=np.random.randint(len(df), size=1)\n",
    "working_hrs=data.drop('Human_Hrs',axis=1).iloc[i]"
   ]
  },
  {
   "cell_type": "code",
   "execution_count": null,
   "id": "d2a4a368-30d0-4304-ba2e-1a0b1b77e51b",
   "metadata": {},
   "outputs": [],
   "source": [
    "working_hrs=scaler.transform(working_hrs.values.reshape(-1,X_train.shape[1]))"
   ]
  },
  {
   "cell_type": "code",
   "execution_count": null,
   "id": "2bc259fb-e27c-4908-9425-905afe3563f6",
   "metadata": {},
   "outputs": [],
   "source": [
    "model.predict(working_hrs)"
   ]
  },
  {
   "cell_type": "code",
   "execution_count": null,
   "id": "cc1196d1-f470-4cfd-9e1e-e9fd9f1f5fda",
   "metadata": {},
   "outputs": [],
   "source": [
    "y_test.shape"
   ]
  },
  {
   "cell_type": "code",
   "execution_count": null,
   "id": "3277fd95-d53f-41ff-8451-5d25d6fd27f7",
   "metadata": {},
   "outputs": [],
   "source": [
    "errors = y_test.reshape(y_test.shape[0], 1) - predictions"
   ]
  },
  {
   "cell_type": "code",
   "execution_count": null,
   "id": "3e0725e2-8643-46f4-8e9e-fe4fbe500f08",
   "metadata": {},
   "outputs": [],
   "source": [
    "import seaborn as sns\n",
    "plt.figure(figsize=(12,6))\n",
    "sns.distplot(errors)\n",
    "plt.xlabel('Errors')\n",
    "plt.show()"
   ]
  },
  {
   "cell_type": "code",
   "execution_count": null,
   "id": "b939b0d9-bb5f-49c3-9903-a9d1eaf9e6eb",
   "metadata": {},
   "outputs": [],
   "source": [
    "#model.save('model_noW.h5')"
   ]
  }
 ],
 "metadata": {
  "kernelspec": {
   "display_name": "Python 3 (ipykernel)",
   "language": "python",
   "name": "python3"
  },
  "language_info": {
   "codemirror_mode": {
    "name": "ipython",
    "version": 3
   },
   "file_extension": ".py",
   "mimetype": "text/x-python",
   "name": "python",
   "nbconvert_exporter": "python",
   "pygments_lexer": "ipython3",
   "version": "3.9.7"
  }
 },
 "nbformat": 4,
 "nbformat_minor": 5
}
